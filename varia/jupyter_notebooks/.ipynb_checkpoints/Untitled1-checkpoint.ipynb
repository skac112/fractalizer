{
 "cells": [
  {
   "cell_type": "code",
   "execution_count": null,
   "metadata": {},
   "outputs": [],
   "source": [
    "interp.load.ivy((\"skac\", \"fractalizer_2.12\", \"0.0.1-SNAPSHOT\"))\n",
    "interp.load.ivy((\"skac\", \"miro-2.12\", \"1.0.3-SNAPSHOT\"))"
   ]
  },
  {
   "cell_type": "code",
   "execution_count": null,
   "metadata": {},
   "outputs": [],
   "source": [
    "import fractalizer.examples._\n",
    "skac.miro.draw.svg._\n",
    "val g = Example15.group\n",
    "d = new Draw\n",
    "d.saveToFile(\"Example15.svg\", g)"
   ]
  }
 ],
 "metadata": {
  "kernelspec": {
   "display_name": "Scala (develop)",
   "language": "scala",
   "name": "scala-develop"
  },
  "language_info": {
   "codemirror_mode": "text/x-scala",
   "file_extension": ".scala",
   "mimetype": "text/x-scala",
   "name": "scala",
   "nbconvert_exporter": "script",
   "version": "2.12.8"
  }
 },
 "nbformat": 4,
 "nbformat_minor": 2
}
