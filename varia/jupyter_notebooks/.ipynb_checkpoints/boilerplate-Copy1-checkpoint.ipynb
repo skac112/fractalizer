{
 "cells": [
  {
   "cell_type": "code",
   "execution_count": 1,
   "metadata": {
    "collapsed": true
   },
   "outputs": [],
   "source": [
    "pprintConfig() = pprintConfig().copy(height = 10000)\n",
    "interp.load.ivy((\"skac\", \"miro_2.12\", \"1.0.2-SNAPSHOT\"))\n",
    "interp.load.ivy((\"skac\", \"fractalizer_2.12\", \"1.0.2-SNAPSHOT\"))\n"
   ]
  },
  {
   "cell_type": "code",
   "execution_count": 2,
   "metadata": {},
   "outputs": [
    {
     "data": {
      "text/plain": [
       "\u001b[32mimport \u001b[39m\u001b[36mskac.fractalizer.skac.fractalizer.examples._\n",
       "\u001b[39m\n",
       "\u001b[32mimport \u001b[39m\u001b[36mskac.miro.graphics._\n",
       "\u001b[39m\n",
       "\u001b[32mimport \u001b[39m\u001b[36mskac.miro.Graphic._\n",
       "\u001b[39m\n",
       "\u001b[32mimport \u001b[39m\u001b[36mskac.miro.draw.svg._\n",
       "\u001b[39m\n",
       "\u001b[32mimport \u001b[39m\u001b[36mskac.miro.attribs._\n",
       "\u001b[39m\n",
       "\u001b[32mimport \u001b[39m\u001b[36mskac.miro.attribs.colors._\n",
       "\u001b[39m\n",
       "\u001b[32mimport \u001b[39m\u001b[36mskac.miro._\n",
       "\u001b[39m\n",
       "\u001b[32mimport \u001b[39m\u001b[36mskac.fractalizer.nodes.partitioners._\n",
       "\u001b[39m\n",
       "\u001b[32mimport \u001b[39m\u001b[36mskac.fractalizer.stylers.colorizers._\n",
       "\u001b[39m\n",
       "\u001b[32mimport \u001b[39m\u001b[36mskac.fractalizer.Node._\n",
       "\u001b[39m\n",
       "\u001b[32mimport \u001b[39m\u001b[36mskac.fractalizer._\n",
       "\u001b[39m\n",
       "\u001b[32mimport \u001b[39m\u001b[36mskac.fractalizer.Palette._\n",
       "\u001b[39m\n",
       "\u001b[32mimport \u001b[39m\u001b[36mskac.fractalizer.nodes._\n",
       "\u001b[39m\n",
       "\u001b[32mimport \u001b[39m\u001b[36mskac.fractalizer._\n",
       "\u001b[39m\n",
       "\u001b[32mimport \u001b[39m\u001b[36mskac.fractalizer.nodes.filters._\n",
       "\u001b[39m\n",
       "\u001b[32mimport \u001b[39m\u001b[36mskac.fractalizer.nodes.stripes._\n",
       "\u001b[39m\n",
       "\u001b[32mimport \u001b[39m\u001b[36mskac.miro.graphics.compounds._\n",
       "\u001b[39m\n",
       "\u001b[32mimport \u001b[39m\u001b[36mscala.math._\u001b[39m"
      ]
     },
     "execution_count": 2,
     "metadata": {},
     "output_type": "execute_result"
    }
   ],
   "source": [
    "import skac.fractalizer.skac.fractalizer.examples._\n",
    "import skac.miro.graphics._\n",
    "import skac.miro.Graphic._\n",
    "import skac.miro.draw.svg._\n",
    "import skac.miro.attribs._\n",
    "import skac.miro.attribs.colors._\n",
    "import skac.miro._\n",
    "import skac.fractalizer.nodes.partitioners._\n",
    "import skac.fractalizer.stylers.colorizers._\n",
    "import skac.fractalizer.Node._\n",
    "import skac.fractalizer._\n",
    "import skac.fractalizer.Palette._\n",
    "import skac.fractalizer.nodes._\n",
    "import skac.fractalizer._\n",
    "import skac.fractalizer.nodes.filters._\n",
    "import skac.fractalizer.nodes.stripes._\n",
    "import skac.miro.graphics.compounds._\n",
    "import scala.math._"
   ]
  },
  {
   "cell_type": "code",
   "execution_count": 18,
   "metadata": {},
   "outputs": [
    {
     "data": {
      "image/svg+xml": [
       "\u001b[32mimport \u001b[39m\u001b[36mskac.fractalizer.nodes.partitioners.triangles._\n",
       "\u001b[39m\n",
       "\u001b[36mcol1\u001b[39m: \u001b[32mColor\u001b[39m = #660000\n",
       "\u001b[36mq1\u001b[39m: \u001b[32mGraphic\u001b[39m = Square(1.0,0.0,GenericAttribs(Some(#660000),None,None))\n",
       "\u001b[36mcol2\u001b[39m: \u001b[32mColor\u001b[39m = #660000\n",
       "\u001b[36mq2\u001b[39m: \u001b[32mGraphic\u001b[39m = Square(1.0,0.0,GenericAttribs(Some(#660000),None,None))\n",
       "\u001b[36mseq\u001b[39m: \u001b[32mSeq\u001b[39m[(\u001b[32mGraphic\u001b[39m, \u001b[32mPoint\u001b[39m)] = \u001b[33mList\u001b[39m(\n",
       "  (Square(1.0,0.0,GenericAttribs(Some(#660000),None,None)), \u001b[33mPoint\u001b[39m(\u001b[32m0.0\u001b[39m, \u001b[32m0.0\u001b[39m)),\n",
       "  (Square(1.0,0.0,GenericAttribs(Some(#660000),None,None)), \u001b[33mPoint\u001b[39m(\u001b[32m1.1\u001b[39m, \u001b[32m0.0\u001b[39m))\n",
       ")\n",
       "\u001b[36mg\u001b[39m: \u001b[32mGroup\u001b[39m = \u001b[33mGroup\u001b[39m(\n",
       "  \u001b[33mList\u001b[39m(\n",
       "    (Square(1.0,0.0,GenericAttribs(Some(#660000),None,None)), \u001b[33mPoint\u001b[39m(\u001b[32m0.0\u001b[39m, \u001b[32m0.0\u001b[39m)),\n",
       "    (Square(1.0,0.0,GenericAttribs(Some(#660000),None,None)), \u001b[33mPoint\u001b[39m(\u001b[32m1.1\u001b[39m, \u001b[32m0.0\u001b[39m))\n",
       "  ),\n",
       "  \u001b[33mGenericAttribs\u001b[39m(None, None, None)\n",
       ")\n",
       "\u001b[36md\u001b[39m: \u001b[32mDraw\u001b[39m = skac.miro.draw.svg.Draw@3294606f\n",
       "\u001b[36mres17_8\u001b[39m: \u001b[32mString\u001b[39m = \u001b[32m\"\"\"\n",
       "<?xml version='1.0' encoding='UTF-8'?>\n",
       "<svg viewBox=\"0.0 0.0 2.1 1.0\" preserveAspectRatio=\"xMidYMid meet\" xmlns=\"http://www.w3.org/2000/svg\" xmlns:svg=\"http://www.w3.org/2000/svg\"><g transform=\"translate(0.0, 0.0)\"><rect fill=\"#660000\" x=\"0.0\" y=\"0.0\" width=\"1.0\" height=\"1.0\" transform=\"rotate(0.0, 0.0, 0.0)\"/><rect fill=\"#660000\" x=\"1.1\" y=\"0.0\" width=\"1.0\" height=\"1.0\" transform=\"rotate(0.0, 1.1, 0.0)\"/></g></svg>\n",
       "\"\"\"\u001b[39m"
      ]
     },
     "execution_count": 18,
     "metadata": {},
     "output_type": "execute_result"
    }
   ],
   "source": [
    "import skac.fractalizer.nodes.partitioners.triangles._\n",
    "val col1 = Color.red(.4)\n",
    "val q1 = Square() fill col1\n",
    "val col2 = col1.addH(0).addS(.3)\n",
    "val q2 = Square() fill col2\n",
    "val seq = Seq((q1, ori), (q2, Point(1.1, 0)))\n",
    "val g = Group(seq)\n",
    "val d = new Draw()\n",
    "d.strDoc((g, ori))\n"
   ]
  }
 ],
 "metadata": {
  "kernelspec": {
   "display_name": "Scala (develop)",
   "language": "scala",
   "name": "scala-develop"
  },
  "language_info": {
   "codemirror_mode": "text/x-scala",
   "file_extension": ".scala",
   "mimetype": "text/x-scala",
   "name": "scala212",
   "nbconvert_exporter": "script",
   "pygments_lexer": "scala",
   "version": "2.12.2"
  }
 },
 "nbformat": 4,
 "nbformat_minor": 2
}
