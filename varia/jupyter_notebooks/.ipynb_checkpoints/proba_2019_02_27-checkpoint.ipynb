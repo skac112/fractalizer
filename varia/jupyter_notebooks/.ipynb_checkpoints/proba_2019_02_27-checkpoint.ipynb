{
 "cells": [
  {
   "cell_type": "code",
   "execution_count": 1,
   "metadata": {},
   "outputs": [],
   "source": [
    "interp.load.ivy(\"skac\" %% \"fractalizer\" % \"0.0.1-SNAPSHOT\")\n",
    "interp.load.ivy(\"skac\" %% \"miro\" % \"1.0.4-SNAPSHOT\")\n",
    "interp.load.ivy(\"skac\" %% \"vgutils\" % \"0.1.0-SNAPSHOT\")"
   ]
  },
  {
   "cell_type": "code",
   "execution_count": 3,
   "metadata": {},
   "outputs": [
    {
     "data": {
      "text/plain": [
       "\u001b[32mimport \u001b[39m\u001b[36mskac.miro.draw.svg._\n",
       "\n",
       "\u001b[39m\n",
       "\u001b[32mimport \u001b[39m\u001b[36mskac.miro.graphics._\n",
       "\u001b[39m\n",
       "\u001b[32mimport \u001b[39m\u001b[36mskac.miro.attribs.colors._\n",
       "\u001b[39m\n",
       "\u001b[32mimport \u001b[39m\u001b[36mskac.miro._\n",
       "\u001b[39m\n",
       "\u001b[32mimport \u001b[39m\u001b[36mskac.fractalizer.stylers.colorizers._\n",
       "\u001b[39m\n",
       "\u001b[32mimport \u001b[39m\u001b[36mskac.fractalizer.nodes.partitioners._\n",
       "\u001b[39m\n",
       "\u001b[32mimport \u001b[39m\u001b[36mskac.fractalizer._\n",
       "\u001b[39m\n",
       "\u001b[32mimport \u001b[39m\u001b[36mskac.fractalizer.nodes.special._\n",
       "\u001b[39m\n",
       "\u001b[32mimport \u001b[39m\u001b[36mcom.github.skac112.vgutils._\n",
       "\n",
       "\u001b[39m\n",
       "defined \u001b[32mobject\u001b[39m \u001b[36mExample15\u001b[39m\n",
       "\u001b[36mg\u001b[39m: \u001b[32mGroup\u001b[39m = \u001b[33mGroup\u001b[39m(\n",
       "  \u001b[33mList\u001b[39m(\n",
       "    (\n",
       "      \u001b[33mRing\u001b[39m(\n",
       "        \u001b[32m1.7442306668598286\u001b[39m,\n",
       "        \u001b[32m12.457668417848321\u001b[39m,\n",
       "        \u001b[33mGenericAttribs\u001b[39m(\n",
       "          \u001b[33mSome\u001b[39m(\n",
       "            \u001b[33mColor\u001b[39m(\n",
       "              \u001b[32m0.46330497575113205\u001b[39m,\n",
       "              \u001b[32m0.6682082700746743\u001b[39m,\n",
       "              \u001b[32m0.918670148001878\u001b[39m,\n",
       "              \u001b[32m1.0\u001b[39m\n",
       "            )\n",
       "          ),\n",
       "          \u001b[32mNone\u001b[39m,\n",
       "          \u001b[32mNone\u001b[39m\n",
       "        )\n",
       "      ),\n",
       "      \u001b[33mPoint\u001b[39m(\u001b[32m112.45766841784832\u001b[39m, \u001b[32m100.0\u001b[39m)\n",
       "    ),\n",
       "    (\n",
       "      \u001b[33mRing\u001b[39m(\n",
       "        \u001b[32m12.457668417848321\u001b[39m,\n",
       "        \u001b[32m50.283929690298955\u001b[39m,\n",
       "        \u001b[33mGenericAttribs\u001b[39m(\n",
       "          \u001b[33mSome\u001b[39m(\u001b[33mColor\u001b[39m(\u001b[32m0.0\u001b[39m, \u001b[32m0.18705488396144918\u001b[39m, \u001b[32m0.6532403638325028\u001b[39m, \u001b[32m1.0\u001b[39m)),\n",
       "          \u001b[32mNone\u001b[39m,\n",
       "          \u001b[32mNone\u001b[39m\n",
       "        )\n",
       "      ),\n",
       "      \u001b[33mPoint\u001b[39m(\u001b[32m150.28392969029895\u001b[39m, \u001b[32m100.0\u001b[39m)\n",
       "    ),\n",
       "    (\n",
       "      \u001b[33mRing\u001b[39m(\n",
       "        \u001b[32m50.283929690298955\u001b[39m,\n",
       "        \u001b[32m57.15542551807715\u001b[39m,\n",
       "        \u001b[33mGenericAttribs\u001b[39m(\n",
       "          \u001b[33mSome\u001b[39m(\n",
       "...\n",
       "\u001b[36md\u001b[39m: \u001b[32mDraw\u001b[39m = skac.miro.draw.svg.Draw@55acd4b7"
      ]
     },
     "execution_count": 3,
     "metadata": {},
     "output_type": "execute_result"
    }
   ],
   "source": [
    "import skac.miro.draw.svg._\n",
    "\n",
    "import skac.miro.graphics._\n",
    "import skac.miro.attribs.colors._\n",
    "import skac.miro._\n",
    "import fractalizer.stylers.colorizers._\n",
    "import fractalizer.nodes.partitioners._\n",
    "import skac.fractalizer._\n",
    "import fractalizer.nodes.special._\n",
    "import com.github.skac112.vgutils._\n",
    "\n",
    "object Example15 {\n",
    "  def group = {\n",
    "    val c = (Circle(100.0), Point(100.0, 100.0))\n",
    "    val part1 = Partition.random(9, -10.0)\n",
    "    val part2 = Partition.random(6, -10.0)\n",
    "    val base_color = Color(math.random, math.random, math.random)\n",
    "    val styler = Selected(Palette.randSimHsl(base_color, 10, .15, .2, .2))\n",
    "    val repl1 = PolarRad(part1, Some(styler))\n",
    "    val repl2 = PolarAng(part2, Some(styler))\n",
    "//     val repl = (repl1 || DrawCut() || repl1) * 2 + DrawCut()\n",
    "    val repl = repl1 + (repl2 | (DrawCut(1)|*3) | repl2) + DrawCut()\n",
    "    val out = repl(Seq(c)).run._1\n",
    "    Group(out)\n",
    "  }\n",
    "}\n",
    "\n",
    "val g = Example15.group\n",
    "val d = new Draw\n",
    "d.saveToFile(g, \"Example15_9.svg\")"
   ]
  },
  {
   "cell_type": "code",
   "execution_count": null,
   "metadata": {},
   "outputs": [],
   "source": []
  }
 ],
 "metadata": {
  "kernelspec": {
   "display_name": "Scala",
   "language": "scala",
   "name": "scala"
  },
  "language_info": {
   "codemirror_mode": "text/x-scala",
   "file_extension": ".scala",
   "mimetype": "text/x-scala",
   "name": "scala",
   "nbconvert_exporter": "script",
   "version": "2.12.8"
  }
 },
 "nbformat": 4,
 "nbformat_minor": 2
}
