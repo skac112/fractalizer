{
 "cells": [
  {
   "cell_type": "code",
   "execution_count": 9,
   "metadata": {},
   "outputs": [],
   "source": [
    "interp.load.ivy(\"skac\" %% \"fractalizer\" % \"0.0.1-SNAPSHOT\")\n",
    "interp.load.ivy(\"skac\" %% \"miro\" % \"1.0.4-SNAPSHOT\")\n",
    "interp.load.ivy(\"skac\" %% \"vgutils\" % \"0.1.0-SNAPSHOT\")"
   ]
  },
  {
   "cell_type": "code",
   "execution_count": 10,
   "metadata": {},
   "outputs": [
    {
     "data": {
      "text/plain": [
       "\u001b[32mimport \u001b[39m\u001b[36mcom.github.skac112.vgutils.{Angle, LineSec, MathUtils, Point}\n",
       "\u001b[39m\n",
       "\u001b[32mimport \u001b[39m\u001b[36mskac.miro.{Ensemble, GenericSegCurve, Graphic}\n",
       "\u001b[39m\n",
       "\u001b[32mimport \u001b[39m\u001b[36mskac.miro.Graphic.GenericAttribs\n",
       "\u001b[39m\n",
       "\u001b[32mimport \u001b[39m\u001b[36mskac.miro.graphics.Rect\n",
       "\u001b[39m\n",
       "\u001b[32mimport \u001b[39m\u001b[36mskac.miro.graphics.compounds._\n",
       "\u001b[39m\n",
       "\u001b[32mimport \u001b[39m\u001b[36mscala.collection.Set\n",
       "\u001b[39m\n",
       "\u001b[32mimport \u001b[39m\u001b[36mscala.math._\n",
       "\u001b[39m\n",
       "\u001b[32mimport \u001b[39m\u001b[36mskac.miro.draw.svg._\n",
       "\u001b[39m\n",
       "\u001b[32mimport \u001b[39m\u001b[36mskac.miro.graphics._\n",
       "\u001b[39m\n",
       "\u001b[32mimport \u001b[39m\u001b[36mskac.miro.attribs.colors._\n",
       "\u001b[39m\n",
       "\u001b[32mimport \u001b[39m\u001b[36mskac.miro._\n",
       "\u001b[39m\n",
       "\u001b[32mimport \u001b[39m\u001b[36mcom.github.skac112.vgutils._\n",
       "\u001b[39m\n",
       "\u001b[32mimport \u001b[39m\u001b[36mscala.math._\n",
       "\n",
       "\u001b[39m\n",
       "\u001b[36mrect\u001b[39m: (\u001b[32mRect\u001b[39m, \u001b[32mPoint\u001b[39m) = (\n",
       "  \u001b[33mRect\u001b[39m(\u001b[32m100.0\u001b[39m, \u001b[32m100.0\u001b[39m, \u001b[32m0.0\u001b[39m, \u001b[33mGenericAttribs\u001b[39m(\u001b[32mNone\u001b[39m, \u001b[32mNone\u001b[39m, \u001b[32mNone\u001b[39m)),\n",
       "  \u001b[33mPoint\u001b[39m(\u001b[32m0.0\u001b[39m, \u001b[32m0.0\u001b[39m)\n",
       ")\n",
       "\u001b[36mds_stroke\u001b[39m: (\u001b[32mMiroColor\u001b[39m, \u001b[32mDouble\u001b[39m) = (\u001b[33mColor\u001b[39m(\u001b[32m0.9333333333333333\u001b[39m, \u001b[32m0.0\u001b[39m, \u001b[32m0.0\u001b[39m, \u001b[32m1.0\u001b[39m), \u001b[32m1.0\u001b[39m)\n",
       "\u001b[36mds_col\u001b[39m: \u001b[32mMiroColor\u001b[39m = \u001b[33mColor\u001b[39m(\u001b[32m0.0\u001b[39m, \u001b[32m0.0\u001b[39m, \u001b[32m0.0\u001b[39m, \u001b[32m0.0\u001b[39m)\n",
       "\u001b[36mds\u001b[39m: (\u001b[32mGraphic\u001b[39m, \u001b[32mPoint\u001b[39m) = (\n",
       "  \u001b[33mDirectedStripe\u001b[39m(\n",
       "    \u001b[32m50.0\u001b[39m,\n",
       "    \u001b[32m100.0\u001b[39m,\n",
       "    \u001b[32m0.01\u001b[39m,\n",
       "    \u001b[33mAngle\u001b[39m(\u001b[32m0.0\u001b[39m, \u001b[32m0.0\u001b[39m, \u001b[32m0.0\u001b[39m),\n",
       "    \u001b[33mGenericAttribs\u001b[39m(\n",
       "      \u001b[33mSome\u001b[39m(\u001b[33mColor\u001b[39m(\u001b[32m0.0\u001b[39m, \u001b[32m0.0\u001b[39m, \u001b[32m0.0\u001b[39m, \u001b[32m0.0\u001b[39m)),\n",
       "      \u001b[33mSome\u001b[39m(\u001b[33mStroke\u001b[39m(\u001b[33mColor\u001b[39m(\u001b[32m0.9333333333333333\u001b[39m, \u001b[32m0.0\u001b[39m, \u001b[32m0.0\u001b[39m, \u001b[32m1.0\u001b[39m), \u001b[32m1.0\u001b[39m)),\n",
       "      \u001b[32mNone\u001b[39m\n",
       "    )\n",
       "  ),\n",
       "  \u001b[33mPoint\u001b[39m(\u001b[32m0.0\u001b[39m, \u001b[32m0.0\u001b[39m)\n",
       ")\n",
       "\u001b[36mg\u001b[39m: \u001b[32mGroup\u001b[39m = \u001b[33mGroup\u001b[39m(\n",
       "  \u001b[33mList\u001b[39m(\n",
       "    (\u001b[33mRect\u001b[39m(\u001b[32m100.0\u001b[39m, \u001b[32m100.0\u001b[39m, \u001b[32m0.0\u001b[39m, \u001b[33mGenericAttribs\u001b[39m(\u001b[32mNone\u001b[39m, \u001b[32mNone\u001b[39m, \u001b[32mNone\u001b[39m)), \u001b[33mPoint\u001b[39m(\u001b[32m0.0\u001b[39m, \u001b[32m0.0\u001b[39m)),\n",
       "    (\n",
       "      \u001b[33mDirectedStripe\u001b[39m(\n",
       "        \u001b[32m50.0\u001b[39m,\n",
       "        \u001b[32m100.0\u001b[39m,\n",
       "        \u001b[32m0.01\u001b[39m,\n",
       "        \u001b[33mAngle\u001b[39m(\u001b[32m0.0\u001b[39m, \u001b[32m0.0\u001b[39m, \u001b[32m0.0\u001b[39m),\n",
       "        \u001b[33mGenericAttribs\u001b[39m(\n",
       "          \u001b[33mSome\u001b[39m(\u001b[33mColor\u001b[39m(\u001b[32m0.0\u001b[39m, \u001b[32m0.0\u001b[39m, \u001b[32m0.0\u001b[39m, \u001b[32m0.0\u001b[39m)),\n",
       "          \u001b[33mSome\u001b[39m(\u001b[33mStroke\u001b[39m(\u001b[33mColor\u001b[39m(\u001b[32m0.9333333333333333\u001b[39m, \u001b[32m0.0\u001b[39m, \u001b[32m0.0\u001b[39m, \u001b[32m1.0\u001b[39m), \u001b[32m1.0\u001b[39m)),\n",
       "          \u001b[32mNone\u001b[39m\n",
       "        )\n",
       "      ),\n",
       "      \u001b[33mPoint\u001b[39m(\u001b[32m0.0\u001b[39m, \u001b[32m0.0\u001b[39m)\n",
       "    )\n",
       "  ),\n",
       "  \u001b[33mGenericAttribs\u001b[39m(\u001b[32mNone\u001b[39m, \u001b[32mNone\u001b[39m, \u001b[32mNone\u001b[39m)\n",
       ")\n",
       "\u001b[36md\u001b[39m: \u001b[32mDraw\u001b[39m = skac.miro.draw.svg.Draw@1a1e9077"
      ]
     },
     "execution_count": 10,
     "metadata": {},
     "output_type": "execute_result"
    }
   ],
   "source": [
    "import com.github.skac112.vgutils.{Angle, LineSec, MathUtils, Point}\n",
    "import skac.miro.{Ensemble, GenericSegCurve, Graphic}\n",
    "import skac.miro.Graphic.GenericAttribs\n",
    "import skac.miro.graphics.Rect\n",
    "import skac.miro.graphics.compounds._\n",
    "import scala.collection.Set\n",
    "import scala.math._\n",
    "import skac.miro.draw.svg._\n",
    "import skac.miro.graphics._\n",
    "import skac.miro.attribs.colors._\n",
    "import skac.miro._\n",
    "import com.github.skac112.vgutils._\n",
    "import scala.math._\n",
    "\n",
    "val rect = (Rect(100.0, 100.0), Point(0, 0))\n",
    "// val ds_col = new MiroColor(.8, .0, .0)\n",
    "val ds_stroke =  (new MiroColor(\"ee0000\"), 1.0)\n",
    "val ds_col = new MiroColor(.0, .0, .0, .0)\n",
    "val ds = (DirectedStripe(50, 100, 0.01, 0.0) stroke ds_stroke fill ds_col , Point(0, 0))\n",
    "val g = Group(Seq(rect, ds))\n",
    "val d = new Draw\n",
    "d.saveToFile(g, \"drawings/example_2019_05_17_DirectedStripe.svg\")\n"
   ]
  },
  {
   "cell_type": "code",
   "execution_count": 2,
   "metadata": {},
   "outputs": [
    {
     "name": "stderr",
     "output_type": "stream",
     "text": [
      "cmd2.sc:288: object Helper is not a member of package ammonite.$sess\n",
      "import _root_.ammonite.$sess.Helper.instance.Broom.{\n",
      "                             ^Compilation Failed"
     ]
    },
    {
     "ename": "",
     "evalue": "",
     "output_type": "error",
     "traceback": [
      "Compilation Failed"
     ]
    }
   ],
   "source": [
    "import com.github.skac112.vgutils.{Angle, LineSec, MathUtils, Point}\n",
    "import skac.fractalizer.{Partition, Styler}\n",
    "val part = Partition(Seq(1.0, 1.0, 1.0, 1.0, 1.0))\n",
    "println(part.rangeSpans(0.0, 1.0))"
   ]
  },
  {
   "cell_type": "code",
   "execution_count": null,
   "metadata": {},
   "outputs": [],
   "source": []
  }
 ],
 "metadata": {
  "kernelspec": {
   "display_name": "Scala",
   "language": "scala",
   "name": "scala"
  },
  "language_info": {
   "codemirror_mode": "text/x-scala",
   "file_extension": ".scala",
   "mimetype": "text/x-scala",
   "name": "scala",
   "nbconvert_exporter": "script",
   "version": "2.12.8"
  }
 },
 "nbformat": 4,
 "nbformat_minor": 2
}
