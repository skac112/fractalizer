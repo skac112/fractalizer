{
 "cells": [
  {
   "cell_type": "code",
   "execution_count": 1,
   "metadata": {},
   "outputs": [],
   "source": [
    "interp.load.ivy(\"skac\" %% \"fractalizer\" % \"0.0.1-SNAPSHOT\")\n",
    "interp.load.ivy(\"skac\" %% \"miro\" % \"1.0.4-SNAPSHOT\")\n",
    "interp.load.ivy(\"skac\" %% \"vgutils\" % \"0.1.0-SNAPSHOT\")"
   ]
  },
  {
   "cell_type": "code",
   "execution_count": 7,
   "metadata": {},
   "outputs": [
    {
     "name": "stderr",
     "output_type": "stream",
     "text": [
      "cmd7.sc:24: value || is not a member of fractalizer.nodes.extenders.Broom\n",
      "val repl12 = repl1 || repl2\n",
      "                   ^Compilation Failed"
     ]
    },
    {
     "ename": "",
     "evalue": "",
     "output_type": "error",
     "traceback": [
      "Compilation Failed"
     ]
    }
   ],
   "source": [
    "import skac.miro.draw.svg._\n",
    "import skac.miro.graphics._\n",
    "import skac.miro.attribs.colors._\n",
    "import skac.miro._\n",
    "import fractalizer.stylers.colorizers._\n",
    "import fractalizer.nodes.extenders._\n",
    "import skac.fractalizer._\n",
    "import fractalizer.nodes.special._\n",
    "import com.github.skac112.vgutils._\n",
    "import scala.math._\n",
    "\n",
    "// start color\n",
    "val start_col = Color(random, random, random)\n",
    "// palette\n",
    "// val p = Palette.hueSpan(start_col, 7)\n",
    "// styler\n",
    "// val s = Selected(p)\n",
    "val part = Partition.linear(0.1, 0.8, 5)\n",
    "val rect = (Rect(100.0, 100.0), Point(0, 0))\n",
    "val r = 4.0\n",
    "val repl1 = Broom.regular(part, -.5, .5, r, 0.0, 0.0, 1)\n",
    "val repl = repl1 + repl1 + repl1 + repl1 + DrawCut()\n",
    "val out = repl(Seq(rect)).run._1\n",
    "val g = Group(out)\n",
    "val d = new Draw\n",
    "d.saveToFile(g, \"drawings/example_2019_05_14_4_broom.svg\")\n"
   ]
  },
  {
   "cell_type": "code",
   "execution_count": null,
   "metadata": {},
   "outputs": [],
   "source": []
  }
 ],
 "metadata": {
  "kernelspec": {
   "display_name": "Scala",
   "language": "scala",
   "name": "scala"
  },
  "language_info": {
   "codemirror_mode": "text/x-scala",
   "file_extension": ".scala",
   "mimetype": "text/x-scala",
   "name": "scala",
   "nbconvert_exporter": "script",
   "version": "2.12.8"
  }
 },
 "nbformat": 4,
 "nbformat_minor": 2
}
