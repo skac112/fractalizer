{
 "cells": [
  {
   "cell_type": "code",
   "execution_count": 1,
   "metadata": {},
   "outputs": [
    {
     "data": {
      "text/plain": [
       "\u001b[36msvg_text\u001b[39m: \u001b[32mString\u001b[39m = \u001b[32m\"\"\"\n",
       "<svg xmlns=\"http://www.w3.org/2000/svg\" viewBox=\"0 0 100 100\">\n",
       "  <path d=\"M30,1h40l29,29v40l-29,29h-40l-29-29v-40z\" stroke=\"#000\" fill=\"none\"/> \n",
       "  <path d=\"M31,3h38l28,28v38l-28,28h-38l-28-28v-38z\" fill=\"#a23\"/> \n",
       "  <text x=\"50\" y=\"68\" font-size=\"48\" fill=\"#FFF\" text-anchor=\"middle\"><![CDATA[410]]></text>\n",
       "</svg>\"\"\"\u001b[39m"
      ]
     },
     "execution_count": 1,
     "metadata": {},
     "output_type": "execute_result"
    }
   ],
   "source": [
    "val svg_text = \"\"\"\n",
    "<svg xmlns=\"http://www.w3.org/2000/svg\" viewBox=\"0 0 100 100\">\n",
    "  <path d=\"M30,1h40l29,29v40l-29,29h-40l-29-29v-40z\" stroke=\"#000\" fill=\"none\"/> \n",
    "  <path d=\"M31,3h38l28,28v38l-28,28h-38l-28-28v-38z\" fill=\"#a23\"/> \n",
    "  <text x=\"50\" y=\"68\" font-size=\"48\" fill=\"#FFF\" text-anchor=\"middle\"><![CDATA[410]]></text>\n",
    "</svg>\"\"\""
   ]
  },
  {
   "cell_type": "code",
   "execution_count": 2,
   "metadata": {},
   "outputs": [
    {
     "data": {
      "image/svg+xml": [
       "\n",
       "<svg xmlns=\"http://www.w3.org/2000/svg\" viewBox=\"0 0 100 100\">\n",
       "  <path d=\"M30,1h40l29,29v40l-29,29h-40l-29-29v-40z\" stroke=\"#000\" fill=\"none\"/> \n",
       "  <path d=\"M31,3h38l28,28v38l-28,28h-38l-28-28v-38z\" fill=\"#a23\"/> \n",
       "  <text x=\"50\" y=\"68\" font-size=\"48\" fill=\"#FFF\" text-anchor=\"middle\"><![CDATA[410]]></text>\n",
       "</svg>"
      ]
     },
     "metadata": {},
     "output_type": "display_data"
    },
    {
     "data": {
      "text/plain": [
       "\u001b[36mres1\u001b[39m: \u001b[32malmond\u001b[39m.\u001b[32mapi\u001b[39m.\u001b[32mhelpers\u001b[39m.\u001b[32mDisplay\u001b[39m = image/svg+xml #ea9cb4a5-2779-4c41-9876-b0adac2f5fe0"
      ]
     },
     "execution_count": 2,
     "metadata": {},
     "output_type": "execute_result"
    }
   ],
   "source": [
    "svg(svg_text)"
   ]
  },
  {
   "cell_type": "code",
   "execution_count": 3,
   "metadata": {},
   "outputs": [
    {
     "name": "stderr",
     "output_type": "stream",
     "text": [
      "Downloading https://repo1.maven.org/maven2/org/scalaz/scalaz-core_2.12/7.2.8/scalaz-core_2.12-7.2.8.jar.sha1\n",
      "Downloaded https://repo1.maven.org/maven2/org/scalaz/scalaz-core_2.12/7.2.8/scalaz-core_2.12-7.2.8.jar.sha1\n",
      "Downloading https://repo1.maven.org/maven2/org/scalactic/scalactic_2.12/3.0.1/scalactic_2.12-3.0.1-sources.jar\n",
      "Downloading https://repo1.maven.org/maven2/org/scalactic/scalactic_2.12/3.0.1/scalactic_2.12-3.0.1-sources.jar.sha1\n",
      "Downloading https://repo1.maven.org/maven2/org/scalaz/scalaz-core_2.12/7.2.8/scalaz-core_2.12-7.2.8-sources.jar.sha1\n",
      "Downloaded https://repo1.maven.org/maven2/org/scalactic/scalactic_2.12/3.0.1/scalactic_2.12-3.0.1-sources.jar.sha1\n",
      "Downloaded https://repo1.maven.org/maven2/org/scalaz/scalaz-core_2.12/7.2.8/scalaz-core_2.12-7.2.8-sources.jar.sha1\n",
      "Downloaded https://repo1.maven.org/maven2/org/scalactic/scalactic_2.12/3.0.1/scalactic_2.12-3.0.1-sources.jar\n"
     ]
    },
    {
     "data": {
      "text/plain": [
       "\u001b[32mimport \u001b[39m\u001b[36m$ivy.$                          \u001b[39m"
      ]
     },
     "execution_count": 3,
     "metadata": {},
     "output_type": "execute_result"
    }
   ],
   "source": [
    "import $ivy.`skac::miro:1.0.3-SNAPSHOT`"
   ]
  },
  {
   "cell_type": "code",
   "execution_count": null,
   "metadata": {},
   "outputs": [],
   "source": [
    "import $ivy.`skac::miro:1.0.3-SNAPSHOT`"
   ]
  },
  {
   "cell_type": "code",
   "execution_count": 4,
   "metadata": {},
   "outputs": [
    {
     "name": "stderr",
     "output_type": "stream",
     "text": [
      "Downloading https://repo1.maven.org/maven2/org/typelevel/cats-macros_2.12/1.2.0/cats-macros_2.12-1.2.0-sources.jar.sha1\n",
      "Downloading https://repo1.maven.org/maven2/org/typelevel/cats-core_2.12/1.2.0/cats-core_2.12-1.2.0-sources.jar\n",
      "Downloading https://repo1.maven.org/maven2/org/typelevel/cats-kernel_2.12/1.2.0/cats-kernel_2.12-1.2.0-sources.jar\n",
      "Downloading https://repo1.maven.org/maven2/org/typelevel/cats-macros_2.12/1.2.0/cats-macros_2.12-1.2.0-sources.jar\n",
      "Downloading https://repo1.maven.org/maven2/org/typelevel/machinist_2.12/0.6.4/machinist_2.12-0.6.4-sources.jar.sha1\n",
      "Downloading https://repo1.maven.org/maven2/org/typelevel/cats-core_2.12/1.2.0/cats-core_2.12-1.2.0-sources.jar.sha1\n",
      "Downloaded https://repo1.maven.org/maven2/org/typelevel/cats-macros_2.12/1.2.0/cats-macros_2.12-1.2.0-sources.jar.sha1\n",
      "Downloading https://repo1.maven.org/maven2/org/typelevel/cats-kernel_2.12/1.2.0/cats-kernel_2.12-1.2.0-sources.jar.sha1\n",
      "Downloaded https://repo1.maven.org/maven2/org/typelevel/machinist_2.12/0.6.4/machinist_2.12-0.6.4-sources.jar.sha1\n",
      "Downloaded https://repo1.maven.org/maven2/org/typelevel/cats-macros_2.12/1.2.0/cats-macros_2.12-1.2.0-sources.jar\n",
      "Downloaded https://repo1.maven.org/maven2/org/typelevel/cats-kernel_2.12/1.2.0/cats-kernel_2.12-1.2.0-sources.jar.sha1\n",
      "Downloading https://repo1.maven.org/maven2/org/typelevel/machinist_2.12/0.6.4/machinist_2.12-0.6.4-sources.jar\n",
      "Downloaded https://repo1.maven.org/maven2/org/typelevel/cats-core_2.12/1.2.0/cats-core_2.12-1.2.0-sources.jar.sha1\n",
      "Downloaded https://repo1.maven.org/maven2/org/typelevel/cats-kernel_2.12/1.2.0/cats-kernel_2.12-1.2.0-sources.jar\n",
      "Downloaded https://repo1.maven.org/maven2/org/typelevel/machinist_2.12/0.6.4/machinist_2.12-0.6.4-sources.jar\n",
      "Downloaded https://repo1.maven.org/maven2/org/typelevel/cats-core_2.12/1.2.0/cats-core_2.12-1.2.0-sources.jar\n"
     ]
    },
    {
     "data": {
      "text/plain": [
       "\u001b[32mimport \u001b[39m\u001b[36m$ivy.$                                 \u001b[39m"
      ]
     },
     "execution_count": 4,
     "metadata": {},
     "output_type": "execute_result"
    }
   ],
   "source": [
    "import $ivy.`skac::fractalizer:1.0.2-SNAPSHOT`"
   ]
  },
  {
   "cell_type": "code",
   "execution_count": 5,
   "metadata": {},
   "outputs": [
    {
     "data": {
      "text/plain": [
       "\u001b[32mimport \u001b[39m\u001b[36mskac.fractalizer.examples._\n",
       "\u001b[39m\n",
       "\u001b[32mimport \u001b[39m\u001b[36mskac.miro.draw.svg._\u001b[39m"
      ]
     },
     "execution_count": 5,
     "metadata": {},
     "output_type": "execute_result"
    }
   ],
   "source": [
    "import skac.fractalizer.examples._\n",
    "import skac.miro.draw.svg._"
   ]
  },
  {
   "cell_type": "code",
   "execution_count": 6,
   "metadata": {},
   "outputs": [
    {
     "data": {
      "text/plain": [
       "\u001b[36mgroup\u001b[39m: \u001b[32mskac\u001b[39m.\u001b[32mmiro\u001b[39m.\u001b[32mgraphics\u001b[39m.\u001b[32mGroup\u001b[39m = \u001b[33mGroup\u001b[39m(\n",
       "  \u001b[33mVector\u001b[39m(\n",
       "    (\n",
       "      \u001b[33mRect\u001b[39m(\n",
       "        \u001b[32m20.0\u001b[39m,\n",
       "        \u001b[32m20.0\u001b[39m,\n",
       "        \u001b[32m0.0\u001b[39m,\n",
       "        \u001b[33mGenericAttribs\u001b[39m(\n",
       "          \u001b[33mSome\u001b[39m(\n",
       "            \u001b[33mColor\u001b[39m(\n",
       "              \u001b[32m0.6028199089439892\u001b[39m,\n",
       "              \u001b[32m0.8045576750023484\u001b[39m,\n",
       "              \u001b[32m0.4271822722916931\u001b[39m,\n",
       "              \u001b[32m1.0\u001b[39m\n",
       "            )\n",
       "          ),\n",
       "          \u001b[32mNone\u001b[39m,\n",
       "          \u001b[32mNone\u001b[39m\n",
       "        )\n",
       "      ),\n",
       "      \u001b[33mPoint\u001b[39m(\u001b[32m0.0\u001b[39m, \u001b[32m0.0\u001b[39m)\n",
       "    ),\n",
       "    (\n",
       "      \u001b[33mRect\u001b[39m(\n",
       "        \u001b[32m20.0\u001b[39m,\n",
       "        \u001b[32m20.0\u001b[39m,\n",
       "        \u001b[32m0.0\u001b[39m,\n",
       "        \u001b[33mGenericAttribs\u001b[39m(\n",
       "          \u001b[33mSome\u001b[39m(\n",
       "            \u001b[33mColor\u001b[39m(\n",
       "              \u001b[32m0.6252123603387049\u001b[39m,\n",
       "              \u001b[32m0.7728144469770248\u001b[39m,\n",
       "              \u001b[32m0.42551481493214705\u001b[39m,\n",
       "              \u001b[32m1.0\u001b[39m\n",
       "            )\n",
       "          ),\n",
       "          \u001b[32mNone\u001b[39m,\n",
       "          \u001b[32mNone\u001b[39m\n",
       "        )\n",
       "...\n",
       "\u001b[36mdraw\u001b[39m: \u001b[32mDraw\u001b[39m = skac.miro.draw.svg.Draw@7dc69990\n",
       "\u001b[36msvg_text\u001b[39m: \u001b[32mString\u001b[39m = \u001b[32m\"\"\"<?xml version='1.0' encoding='UTF-8'?>\n",
       "<svg viewBox=\"0.0 0.0 100.0 100.0\" preserveAspectRatio=\"xMidYMid meet\" xmlns=\"http://www.w3.org/2000/svg\" xmlns:svg=\"http://www.w3.org/2000/svg\"><g transform=\"translate(0.0, 0.0)\"><rect fill=\"#9acd6d\" x=\"0.0\" y=\"0.0\" width=\"20.0\" height=\"20.0\" transform=\"rotate(0.0, 0.0, 0.0)\"/><rect fill=\"#9fc56d\" x=\"0.0\" y=\"20.0\" width=\"20.0\" height=\"20.0\" transform=\"rotate(0.0, 0.0, 20.0)\"/><rect fill=\"#ccda85\" x=\"0.0\" y=\"40.0\" width=\"20.0\" height=\"20.0\" transform=\"rotate(0.0, 0.0, 40.0)\"/><rect fill=\"#67c455\" x=\"0.0\" y=\"60.0\" width=\"20.0\" height=\"20.0\" transform=\"rotate(0.0, 0.0, 60.0)\"/><rect fill=\"#86d47e\" x=\"0.0\" y=\"80.0\" width=\"20.0\" height=\"20.0\" transform=\"rotate(0.0, 0.0, 80.0)\"/><rect fill=\"#d24056\" x=\"20.0\" y=\"0.0\" width=\"20.0\" height=\"20.0\" transform=\"rotate(0.0, 20.0, 0.0)\"/><rect fill=\"#da544a\" x=\"20.0\" y=\"20.0\" width=\"20.0\" height=\"20.0\" transform=\"rotate(0.0, 20.0, 20.0)\"/><rect fill=\"#cb477f\" x=\"20.0\" y=\"40.0\" width=\"20.0\" height=\"20.0\" transform=\"rotate(0.0, 20.0, 40.0)\"/><rect fill=\"#bf3c60\" x=\"20.0\" y=\"60.0\" width=\"20.0\" height=\"20.0\" transform=\"rotate(0.0, 20.0, 60.0)\"/><rect fill=\"#c13850\" x=\"20.0\" y=\"80.0\" width=\"20.0\" height=\"20.0\" transform=\"rotate(0.0, 20.0, 80.0)\"/><rect fill=\"#130000\" x=\"40.0\" y=\"0.0\" width=\"20.0\" height=\"20.0\" transform=\"rotate(0.0, 40.0, 0.0)\"/><rect fill=\"#000000\" x=\"40.0\" y=\"20.0\" width=\"20.0\" height=\"20.0\" transform=\"rotate(0.0, 40.0, 20.0)\"/><rect fill=\"#000000\" x=\"40.0\" y=\"40.0\" width=\"20.0\" height=\"20.0\" transform=\"rotate(0.0, 40.0, 40.0)\"/><rect fill=\"#000000\" x=\"40.0\" y=\"60.0\" width=\"20.0\" height=\"20.0\" transform=\"rotate(0.0, 40.0, 60.0)\"/><rect fill=\"#020000\" x=\"40.0\" y=\"80.0\" width=\"20.0\" height=\"20.0\" transform=\"rotate(0.0, 40.0, 80.0)\"/><rect fill=\"#d8c247\" x=\"60.0\" y=\"0.0\" width=\"20.0\" height=\"20.0\" transform=\"rotate(0.0, 60.0, 0.0)\"/><rect fill=\"#c4d130\" x=\"60.0\" y=\"20.0\" width=\"20.0\" height=\"20.0\" transform=\"rotate(0.0, 60.0, 20.0)\"/><rect fill=\"#dab85f\" x=\"60.0\" y=\"40.0\" width=\"20.0\" height=\"20.0\" transform=\"rotate(0.0, 60.0, 40.0)\"/><rect fill=\"#e5987d\" x=\"60.0\" y=\"60.0\" width=\"20.0\" height=\"20.0\" transform=\"rotate(0.0, 60.0, 60.0)\"/><rect fill=\"#c5418a\" x=\"60.0\" y=\"80.0\" width=\"20.0\" height=\"20.0\" transform=\"rotate(0.0, 60.0, 80.0)\"/><rect fill=\"#000000\" x=\"80.0\" y=\"0.0\" width=\"20.0\" height=\"20.0\" transform=\"rotate(0.0, 80.0, 0.0)\"/><rect fill=\"#280000\" x=\"80.0\" y=\"20.0\" width=\"20.0\" height=\"20.0\" transform=\"rotate(0.0, 80.0, 20.0)\"/><rect fill=\"#000000\" x=\"80.0\" y=\"40.0\" width=\"20.0\" height=\"20.0\" transform=\"rotate(0.0, 80.0, 40.0)\"/><rect fill=\"#000000\" x=\"80.0\" y=\"60.0\" width=\"20.0\" height=\"20.0\" transform=\"rotate(0.0, 80.0, 60.0)\"/><rect fill=\"#000000\" x=\"80.0\" y=\"80.0\" width=\"20.0\" height=\"20.0\" transform=\"rotate(0.0, 80.0, 80.0)\"/></g></svg>\"\"\"\u001b[39m"
      ]
     },
     "execution_count": 6,
     "metadata": {},
     "output_type": "execute_result"
    }
   ],
   "source": [
    "val group = Example29.group\n",
    "val draw = new Draw()\n",
    "val svg_text = draw.strDoc(group)"
   ]
  },
  {
   "cell_type": "code",
   "execution_count": 7,
   "metadata": {},
   "outputs": [
    {
     "data": {
      "image/svg+xml": [
       "<?xml version='1.0' encoding='UTF-8'?>\n",
       "<svg viewBox=\"0.0 0.0 100.0 100.0\" preserveAspectRatio=\"xMidYMid meet\" xmlns=\"http://www.w3.org/2000/svg\" xmlns:svg=\"http://www.w3.org/2000/svg\"><g transform=\"translate(0.0, 0.0)\"><rect fill=\"#9acd6d\" x=\"0.0\" y=\"0.0\" width=\"20.0\" height=\"20.0\" transform=\"rotate(0.0, 0.0, 0.0)\"/><rect fill=\"#9fc56d\" x=\"0.0\" y=\"20.0\" width=\"20.0\" height=\"20.0\" transform=\"rotate(0.0, 0.0, 20.0)\"/><rect fill=\"#ccda85\" x=\"0.0\" y=\"40.0\" width=\"20.0\" height=\"20.0\" transform=\"rotate(0.0, 0.0, 40.0)\"/><rect fill=\"#67c455\" x=\"0.0\" y=\"60.0\" width=\"20.0\" height=\"20.0\" transform=\"rotate(0.0, 0.0, 60.0)\"/><rect fill=\"#86d47e\" x=\"0.0\" y=\"80.0\" width=\"20.0\" height=\"20.0\" transform=\"rotate(0.0, 0.0, 80.0)\"/><rect fill=\"#d24056\" x=\"20.0\" y=\"0.0\" width=\"20.0\" height=\"20.0\" transform=\"rotate(0.0, 20.0, 0.0)\"/><rect fill=\"#da544a\" x=\"20.0\" y=\"20.0\" width=\"20.0\" height=\"20.0\" transform=\"rotate(0.0, 20.0, 20.0)\"/><rect fill=\"#cb477f\" x=\"20.0\" y=\"40.0\" width=\"20.0\" height=\"20.0\" transform=\"rotate(0.0, 20.0, 40.0)\"/><rect fill=\"#bf3c60\" x=\"20.0\" y=\"60.0\" width=\"20.0\" height=\"20.0\" transform=\"rotate(0.0, 20.0, 60.0)\"/><rect fill=\"#c13850\" x=\"20.0\" y=\"80.0\" width=\"20.0\" height=\"20.0\" transform=\"rotate(0.0, 20.0, 80.0)\"/><rect fill=\"#130000\" x=\"40.0\" y=\"0.0\" width=\"20.0\" height=\"20.0\" transform=\"rotate(0.0, 40.0, 0.0)\"/><rect fill=\"#000000\" x=\"40.0\" y=\"20.0\" width=\"20.0\" height=\"20.0\" transform=\"rotate(0.0, 40.0, 20.0)\"/><rect fill=\"#000000\" x=\"40.0\" y=\"40.0\" width=\"20.0\" height=\"20.0\" transform=\"rotate(0.0, 40.0, 40.0)\"/><rect fill=\"#000000\" x=\"40.0\" y=\"60.0\" width=\"20.0\" height=\"20.0\" transform=\"rotate(0.0, 40.0, 60.0)\"/><rect fill=\"#020000\" x=\"40.0\" y=\"80.0\" width=\"20.0\" height=\"20.0\" transform=\"rotate(0.0, 40.0, 80.0)\"/><rect fill=\"#d8c247\" x=\"60.0\" y=\"0.0\" width=\"20.0\" height=\"20.0\" transform=\"rotate(0.0, 60.0, 0.0)\"/><rect fill=\"#c4d130\" x=\"60.0\" y=\"20.0\" width=\"20.0\" height=\"20.0\" transform=\"rotate(0.0, 60.0, 20.0)\"/><rect fill=\"#dab85f\" x=\"60.0\" y=\"40.0\" width=\"20.0\" height=\"20.0\" transform=\"rotate(0.0, 60.0, 40.0)\"/><rect fill=\"#e5987d\" x=\"60.0\" y=\"60.0\" width=\"20.0\" height=\"20.0\" transform=\"rotate(0.0, 60.0, 60.0)\"/><rect fill=\"#c5418a\" x=\"60.0\" y=\"80.0\" width=\"20.0\" height=\"20.0\" transform=\"rotate(0.0, 60.0, 80.0)\"/><rect fill=\"#000000\" x=\"80.0\" y=\"0.0\" width=\"20.0\" height=\"20.0\" transform=\"rotate(0.0, 80.0, 0.0)\"/><rect fill=\"#280000\" x=\"80.0\" y=\"20.0\" width=\"20.0\" height=\"20.0\" transform=\"rotate(0.0, 80.0, 20.0)\"/><rect fill=\"#000000\" x=\"80.0\" y=\"40.0\" width=\"20.0\" height=\"20.0\" transform=\"rotate(0.0, 80.0, 40.0)\"/><rect fill=\"#000000\" x=\"80.0\" y=\"60.0\" width=\"20.0\" height=\"20.0\" transform=\"rotate(0.0, 80.0, 60.0)\"/><rect fill=\"#000000\" x=\"80.0\" y=\"80.0\" width=\"20.0\" height=\"20.0\" transform=\"rotate(0.0, 80.0, 80.0)\"/></g></svg>"
      ]
     },
     "metadata": {},
     "output_type": "display_data"
    },
    {
     "data": {
      "text/plain": [
       "\u001b[36mres6\u001b[39m: \u001b[32malmond\u001b[39m.\u001b[32mapi\u001b[39m.\u001b[32mhelpers\u001b[39m.\u001b[32mDisplay\u001b[39m = image/svg+xml #0ed01099-dd79-4a86-a49e-cbf1cc0b6588"
      ]
     },
     "execution_count": 7,
     "metadata": {},
     "output_type": "execute_result"
    }
   ],
   "source": [
    "svg(svg_text)"
   ]
  },
  {
   "cell_type": "code",
   "execution_count": null,
   "metadata": {},
   "outputs": [],
   "source": []
  },
  {
   "cell_type": "code",
   "execution_count": null,
   "metadata": {},
   "outputs": [],
   "source": []
  },
  {
   "cell_type": "code",
   "execution_count": null,
   "metadata": {},
   "outputs": [],
   "source": []
  }
 ],
 "metadata": {
  "kernelspec": {
   "display_name": "Scala (snapshot)",
   "language": "scala",
   "name": "scala-snapshot"
  },
  "language_info": {
   "codemirror_mode": "text/x-scala",
   "file_extension": ".scala",
   "mimetype": "text/x-scala",
   "name": "scala",
   "nbconvert_exporter": "script",
   "version": "2.12.7"
  }
 },
 "nbformat": 4,
 "nbformat_minor": 2
}
