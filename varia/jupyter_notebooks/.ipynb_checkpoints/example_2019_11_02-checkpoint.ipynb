{
 "cells": [
  {
   "cell_type": "code",
   "execution_count": 1,
   "metadata": {},
   "outputs": [
    {
     "name": "stderr",
     "output_type": "stream",
     "text": [
      "Downloading https://repo1.maven.org/maven2/org/scala-lang/scala-reflect/2.12.0/scala-reflect-2.12.0.pom\n",
      "Downloaded https://repo1.maven.org/maven2/org/scala-lang/scala-reflect/2.12.0/scala-reflect-2.12.0.pom\n",
      "Downloading https://repo1.maven.org/maven2/skac/miro_2.12/1.0.6-SNAPSHOT/miro_2.12-1.0.6-SNAPSHOT.pom\n",
      "Downloaded https://repo1.maven.org/maven2/skac/miro_2.12/1.0.6-SNAPSHOT/miro_2.12-1.0.6-SNAPSHOT.pom\n",
      "Downloading https://repo1.maven.org/maven2/skac/miro_2.12/1.0.6-SNAPSHOT/miro_2.12-1.0.6-SNAPSHOT.pom.sha1\n",
      "Downloaded https://repo1.maven.org/maven2/skac/miro_2.12/1.0.6-SNAPSHOT/miro_2.12-1.0.6-SNAPSHOT.pom.sha1\n",
      "Downloading https://repo1.maven.org/maven2/skac/miro_2.12/1.0.6-SNAPSHOT/maven-metadata.xml\n",
      "Downloaded https://repo1.maven.org/maven2/skac/miro_2.12/1.0.6-SNAPSHOT/maven-metadata.xml\n",
      "Downloading https://repo1.maven.org/maven2/skac/miro_2.12/1.0.6-SNAPSHOT/maven-metadata.xml.sha1\n",
      "Downloaded https://repo1.maven.org/maven2/skac/miro_2.12/1.0.6-SNAPSHOT/maven-metadata.xml.sha1\n"
     ]
    },
    {
     "ename": "",
     "evalue": "",
     "output_type": "error",
     "traceback": [
      "\u001b[31mjava.lang.Exception: Failed to resolve ivy dependencies:Error downloading skac:miro_2.12:1.0.6-SNAPSHOT\n  not found: /home/slawek/.ivy2/local/skac/miro_2.12/1.0.6-SNAPSHOT/ivys/ivy.xml\n  not found: https://repo1.maven.org/maven2/skac/miro_2.12/1.0.6-SNAPSHOT/miro_2.12-1.0.6-SNAPSHOT.pom\u001b[39m\n  ammonite.interp.Interpreter$DefaultLoadJar.ivy(\u001b[32mInterpreter.scala\u001b[39m:\u001b[32m663\u001b[39m)\n  ammonite.$sess.cmd0$Helper.<init>(\u001b[32mcmd0.sc\u001b[39m:\u001b[32m2\u001b[39m)\n  ammonite.$sess.cmd0$.<init>(\u001b[32mcmd0.sc\u001b[39m:\u001b[32m7\u001b[39m)\n  ammonite.$sess.cmd0$.<clinit>(\u001b[32mcmd0.sc\u001b[39m:\u001b[32m-1\u001b[39m)"
     ]
    }
   ],
   "source": [
    "interp.load.ivy(\"skac112\" %% \"fractalizer\" % \"0.4.0-SNAPSHOT\")\n",
    "interp.load.ivy(\"skac112\" %% \"miro\" % \"1.0.6-SNAPSHOT\")\n",
    "interp.load.ivy(\"skac112\" %% \"vgutils\" % \"0.1.0-SNAPSHOT\")"
   ]
  },
  {
   "cell_type": "code",
   "execution_count": null,
   "metadata": {},
   "outputs": [],
   "source": []
  }
 ],
 "metadata": {
  "kernelspec": {
   "display_name": "Scala",
   "language": "scala",
   "name": "scala"
  },
  "language_info": {
   "codemirror_mode": "text/x-scala",
   "file_extension": ".scala",
   "mimetype": "text/x-scala",
   "name": "scala",
   "nbconvert_exporter": "script",
   "version": "2.12.9"
  }
 },
 "nbformat": 4,
 "nbformat_minor": 2
}
