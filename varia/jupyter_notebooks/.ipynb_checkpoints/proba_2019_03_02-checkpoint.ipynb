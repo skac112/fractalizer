{
 "cells": [
  {
   "cell_type": "code",
   "execution_count": 1,
   "metadata": {},
   "outputs": [],
   "source": [
    "interp.load.ivy(\"skac\" %% \"fractalizer\" % \"0.0.1-SNAPSHOT\")\n",
    "interp.load.ivy(\"skac\" %% \"miro\" % \"1.0.4-SNAPSHOT\")\n",
    "interp.load.ivy(\"skac\" %% \"vgutils\" % \"0.1.0-SNAPSHOT\")"
   ]
  },
  {
   "cell_type": "code",
   "execution_count": 9,
   "metadata": {},
   "outputs": [
    {
     "data": {
      "text/plain": [
       "\u001b[32mimport \u001b[39m\u001b[36mskac.miro.draw.svg._\n",
       "\u001b[39m\n",
       "\u001b[32mimport \u001b[39m\u001b[36mskac.miro.graphics._\n",
       "\u001b[39m\n",
       "\u001b[32mimport \u001b[39m\u001b[36mskac.miro.attribs.colors._\n",
       "\u001b[39m\n",
       "\u001b[32mimport \u001b[39m\u001b[36mskac.miro._\n",
       "\u001b[39m\n",
       "\u001b[32mimport \u001b[39m\u001b[36mskac.fractalizer.stylers.colorizers._\n",
       "\u001b[39m\n",
       "\u001b[32mimport \u001b[39m\u001b[36mskac.fractalizer.nodes.partitioners._\n",
       "\u001b[39m\n",
       "\u001b[32mimport \u001b[39m\u001b[36mskac.fractalizer._\n",
       "\u001b[39m\n",
       "\u001b[32mimport \u001b[39m\u001b[36mskac.fractalizer.nodes.special._\n",
       "\u001b[39m\n",
       "\u001b[32mimport \u001b[39m\u001b[36mcom.github.skac112.vgutils._\n",
       "\n",
       "\u001b[39m\n",
       "defined \u001b[32mobject\u001b[39m \u001b[36mExample29\u001b[39m\n",
       "\u001b[36mg\u001b[39m: \u001b[32mGroup\u001b[39m = \u001b[33mGroup\u001b[39m(\n",
       "  \u001b[33mList\u001b[39m(\n",
       "    (\n",
       "      \u001b[33mCircle\u001b[39m(\n",
       "        \u001b[32m0.015468726037362756\u001b[39m,\n",
       "        \u001b[33mGenericAttribs\u001b[39m(\n",
       "          \u001b[33mSome\u001b[39m(\n",
       "            \u001b[33mColor\u001b[39m(\n",
       "              \u001b[32m0.9579783797623713\u001b[39m,\n",
       "              \u001b[32m0.370999675105677\u001b[39m,\n",
       "              \u001b[32m0.9243216603970612\u001b[39m,\n",
       "              \u001b[32m1.0\u001b[39m\n",
       "            )\n",
       "          ),\n",
       "          \u001b[32mNone\u001b[39m,\n",
       "          \u001b[32mNone\u001b[39m\n",
       "        )\n",
       "      ),\n",
       "      \u001b[33mPoint\u001b[39m(\u001b[32m100.0\u001b[39m, \u001b[32m100.0\u001b[39m)\n",
       "    ),\n",
       "    (\n",
       "      \u001b[33mRing\u001b[39m(\n",
       "        \u001b[32m0.015468726037362756\u001b[39m,\n",
       "        \u001b[32m0.03621111382756911\u001b[39m,\n",
       "        \u001b[33mGenericAttribs\u001b[39m(\n",
       "          \u001b[33mSome\u001b[39m(\n",
       "            \u001b[33mColor\u001b[39m(\n",
       "              \u001b[32m0.8721146741382924\u001b[39m,\n",
       "              \u001b[32m0.11380304131969848\u001b[39m,\n",
       "              \u001b[32m0.3490360923860054\u001b[39m,\n",
       "              \u001b[32m1.0\u001b[39m\n",
       "            )\n",
       "          ),\n",
       "          \u001b[32mNone\u001b[39m,\n",
       "          \u001b[32mNone\u001b[39m\n",
       "        )\n",
       "      ),\n",
       "      \u001b[33mPoint\u001b[39m(\u001b[32m100.03621111382756\u001b[39m, \u001b[32m100.0\u001b[39m)\n",
       "    ),\n",
       "...\n",
       "\u001b[36mres8_11\u001b[39m: \u001b[32mBounds\u001b[39m = \u001b[33mBounds\u001b[39m(\u001b[33mPoint\u001b[39m(\u001b[32m0.0\u001b[39m, \u001b[32m0.0\u001b[39m), \u001b[33mPoint\u001b[39m(\u001b[32m200.0\u001b[39m, \u001b[32m200.0\u001b[39m), \u001b[32m'NORMAL_BOUNDS\u001b[39m)\n",
       "\u001b[36md\u001b[39m: \u001b[32mDraw\u001b[39m = skac.miro.draw.svg.Draw@26200b68"
      ]
     },
     "execution_count": 9,
     "metadata": {},
     "output_type": "execute_result"
    }
   ],
   "source": [
    "import skac.miro.draw.svg._\n",
    "import skac.miro.graphics._\n",
    "import skac.miro.attribs.colors._\n",
    "import skac.miro._\n",
    "import skac.fractalizer.stylers.colorizers._\n",
    "import skac.fractalizer.nodes.partitioners._\n",
    "import skac.fractalizer._\n",
    "import skac.fractalizer.nodes.special._\n",
    "import com.github.skac112.vgutils._\n",
    "\n",
    "object Example29 {\n",
    "  def group = {\n",
    "    val c = (Circle(100.0), Point(100.0, 100.0))\n",
    "    val part1 = Partition.power(0.02, 20.0, 50, 4.0).unitValues      \n",
    "    val base_color = Color(math.random, math.random, math.random)\n",
    "    val styler = Selected(Palette.randSimHsl(base_color, 4, .15, .2, .2))\n",
    "    val repl1 = PolarRad(part1, Some(styler))   \n",
    "    val repl = repl1 + DrawCut()\n",
    "    val out = repl(Seq(c)).run._1\n",
    "    Group(out)\n",
    "  }\n",
    "}\n",
    "\n",
    "val g = Example29.group\n",
    "bounds(g)\n",
    "val d = new Draw\n",
    "d.saveToFile(g, \"Example29_10.svg\")"
   ]
  },
  {
   "cell_type": "code",
   "execution_count": 7,
   "metadata": {},
   "outputs": [
    {
     "data": {
      "text/plain": [
       "\u001b[36mpart1\u001b[39m: \u001b[32mPartition\u001b[39m.\u001b[32mPartSeq\u001b[39m = \u001b[33mVector\u001b[39m(\n",
       "  \u001b[32m0.0\u001b[39m,\n",
       "  \u001b[32m6.827887151388593E-4\u001b[39m,\n",
       "  \u001b[32m0.0026368068557461864\u001b[39m,\n",
       "  \u001b[32m0.00651539708397831\u001b[39m,\n",
       "  \u001b[32m0.012971902061991558\u001b[39m,\n",
       "  \u001b[32m0.022659664451942257\u001b[39m,\n",
       "  \u001b[32m0.03623202691598673\u001b[39m,\n",
       "  \u001b[32m0.05434233211628132\u001b[39m,\n",
       "  \u001b[32m0.07764392271498234\u001b[39m,\n",
       "  \u001b[32m0.10679014137424613\u001b[39m,\n",
       "  \u001b[32m0.14243433075622902\u001b[39m,\n",
       "  \u001b[32m0.18522983352308733\u001b[39m,\n",
       "  \u001b[32m0.23582999233697738\u001b[39m,\n",
       "  \u001b[32m0.2948881498600555\u001b[39m,\n",
       "  \u001b[32m0.36305764875447805\u001b[39m,\n",
       "  \u001b[32m0.44099183168240136\u001b[39m,\n",
       "  \u001b[32m0.5293440413059817\u001b[39m,\n",
       "  \u001b[32m0.6287676202873753\u001b[39m,\n",
       "  \u001b[32m0.7399159112887387\u001b[39m,\n",
       "  \u001b[32m0.8634422569722282\u001b[39m,\n",
       "  \u001b[32m1.0\u001b[39m\n",
       ")"
      ]
     },
     "execution_count": 7,
     "metadata": {},
     "output_type": "execute_result"
    }
   ],
   "source": [
    "val part1 = Partition.power(0.02, 4.0, 20, 2.0).unitValues"
   ]
  },
  {
   "cell_type": "code",
   "execution_count": null,
   "metadata": {},
   "outputs": [],
   "source": []
  }
 ],
 "metadata": {
  "kernelspec": {
   "display_name": "Scala",
   "language": "scala",
   "name": "scala"
  },
  "language_info": {
   "codemirror_mode": "text/x-scala",
   "file_extension": ".scala",
   "mimetype": "text/x-scala",
   "name": "scala",
   "nbconvert_exporter": "script",
   "version": "2.12.8"
  }
 },
 "nbformat": 4,
 "nbformat_minor": 2
}
