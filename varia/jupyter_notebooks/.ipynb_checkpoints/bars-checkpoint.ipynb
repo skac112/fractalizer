{
 "cells": [
  {
   "cell_type": "code",
   "execution_count": 1,
   "metadata": {
    "collapsed": true
   },
   "outputs": [],
   "source": [
    "pprintConfig() = pprintConfig().copy(height = 10000)\n",
    "interp.load.ivy((\"skac\", \"miro_2.12\", \"1.0.2-SNAPSHOT\"))\n",
    "interp.load.ivy((\"skac\", \"fractalizer_2.12\", \"1.0.2-SNAPSHOT\"))"
   ]
  },
  {
   "cell_type": "code",
   "execution_count": 3,
   "metadata": {},
   "outputs": [
    {
     "data": {
      "text/plain": [
       "\u001b[32mimport \u001b[39m\u001b[36mskac.fractalizer.examples._\n",
       "\u001b[39m\n",
       "\u001b[32mimport \u001b[39m\u001b[36mskac.miro.graphics._\n",
       "\u001b[39m\n",
       "\u001b[32mimport \u001b[39m\u001b[36mskac.miro.Graphic._\n",
       "\u001b[39m\n",
       "\u001b[32mimport \u001b[39m\u001b[36mskac.miro.draw.svg._\n",
       "\u001b[39m\n",
       "\u001b[32mimport \u001b[39m\u001b[36mskac.miro.attribs._\n",
       "\u001b[39m\n",
       "\u001b[32mimport \u001b[39m\u001b[36mskac.miro.attribs.colors._\n",
       "\u001b[39m\n",
       "\u001b[32mimport \u001b[39m\u001b[36mskac.miro._\n",
       "\u001b[39m\n",
       "\u001b[32mimport \u001b[39m\u001b[36mskac.fractalizer.nodes.partitioners._\n",
       "\u001b[39m\n",
       "\u001b[32mimport \u001b[39m\u001b[36mskac.fractalizer.nodes.partitioners.rectangles._\n",
       "\u001b[39m\n",
       "\u001b[32mimport \u001b[39m\u001b[36mskac.fractalizer.stylers.colorizers._\n",
       "\u001b[39m\n",
       "\u001b[32mimport \u001b[39m\u001b[36mskac.fractalizer.Node._\n",
       "\u001b[39m\n",
       "\u001b[32mimport \u001b[39m\u001b[36mskac.fractalizer._\n",
       "\u001b[39m\n",
       "\u001b[32mimport \u001b[39m\u001b[36mskac.fractalizer.Palette._\n",
       "\u001b[39m\n",
       "\u001b[32mimport \u001b[39m\u001b[36mskac.fractalizer.nodes._\n",
       "\u001b[39m\n",
       "\u001b[32mimport \u001b[39m\u001b[36mskac.fractalizer._\n",
       "\u001b[39m\n",
       "\u001b[32mimport \u001b[39m\u001b[36mskac.fractalizer.nodes.filters._\n",
       "\u001b[39m\n",
       "\u001b[32mimport \u001b[39m\u001b[36mskac.fractalizer.nodes.stripes._\n",
       "\u001b[39m\n",
       "\u001b[32mimport \u001b[39m\u001b[36mskac.miro.graphics.compounds._\n",
       "\u001b[39m\n",
       "\u001b[32mimport \u001b[39m\u001b[36mscala.math._\u001b[39m"
      ]
     },
     "execution_count": 3,
     "metadata": {},
     "output_type": "execute_result"
    }
   ],
   "source": [
    "import skac.fractalizer.examples._\n",
    "import skac.miro.graphics._\n",
    "import skac.miro.Graphic._\n",
    "import skac.miro.draw.svg._\n",
    "import skac.miro.attribs._\n",
    "import skac.miro.attribs.colors._\n",
    "import skac.miro._\n",
    "import skac.fractalizer.nodes.partitioners._\n",
    "import skac.fractalizer.nodes.partitioners.rectangles._\n",
    "import skac.fractalizer.stylers.colorizers._\n",
    "import skac.fractalizer.Node._\n",
    "import skac.fractalizer._\n",
    "import skac.fractalizer.Palette._\n",
    "import skac.fractalizer.nodes._\n",
    "import skac.fractalizer._\n",
    "import skac.fractalizer.nodes.filters._\n",
    "import skac.fractalizer.nodes.stripes._\n",
    "import skac.miro.graphics.compounds._\n",
    "import scala.math._"
   ]
  },
  {
   "cell_type": "code",
   "execution_count": 9,
   "metadata": {},
   "outputs": [
    {
     "data": {
      "image/svg+xml": [
       "defined \u001b[32mobject\u001b[39m \u001b[36mExampleBars\u001b[39m\n",
       "\u001b[36mgp\u001b[39m: (\u001b[32mGroup\u001b[39m, \u001b[32mPoint\u001b[39m) = (\n",
       "  \u001b[33mGroup\u001b[39m(\n",
       "    Stream((Rect(5.0,100.0,0.0,GenericAttribs(Some(#f095ce),None,None)),Point(100.0,100.0)), (Rect(5.0,100.0,0.0,GenericAttribs(Some(#9e182a),None,None)),Point(105.0,100.0)), (Rect(5.0,100.0,0.0,GenericAttribs(Some(#761341),None,None)),Point(110.0,100.0)), (Rect(5.0,100.0,0.0,GenericAttribs(Some(#d21c5a),None,None)),Point(115.0,100.0)), (Rect(5.0,100.0,0.0,GenericAttribs(Some(#e55582),None,None)),Point(120.0,100.0)), (Rect(5.0,100.0,0.0,GenericAttribs(Some(#f095ce),None,None)),Point(125.0,100.0)), (Rect(5.0,100.0,0.0,GenericAttribs(Some(#9e182a),None,None)),Point(130.0,100.0)), (Rect(5.0,100.0,0.0,GenericAttribs(Some(#761341),None,None)),Point(135.0,100.0)), (Rect(5.0,100.0,0.0,GenericAttribs(Some(#d21c5a),None,None)),Point(140.0,100.0)), (Rect(5.0,100.0,0.0,GenericAttribs(Some(#e55582),None,None)),Point(145.0,100.0)), (Rect(5.0,100.0,0.0,GenericAttribs(Some(#f095ce),None,None)),Point(150.0,100.0)), (Rect(5.0,100.0,0.0,GenericAttribs(Some(#9e182a),None,None)),Point(155.0,100.0)), (Rect(5.0,100.0,0.0,GenericAttribs(Some(#761341),None,None)),Point(160.0,100.0)), (Rect(5.0,100.0,0.0,GenericAttribs(Some(#d21c5a),None,None)),Point(165.0,100.0)), (Rect(5.0,100.0,0.0,GenericAttribs(Some(#e55582),None,None)),Point(170.0,100.0)), (Rect(5.0,100.0,0.0,GenericAttribs(Some(#f095ce),None,None)),Point(175.0,100.0)), (Rect(5.0,100.0,0.0,GenericAttribs(Some(#9e182a),None,None)),Point(180.0,100.0)), (Rect(5.0,100.0,0.0,GenericAttribs(Some(#761341),None,None)),Point(185.0,100.0)), (Rect(5.0,100.0,0.0,GenericAttribs(Some(#d21c5a),None,None)),Point(190.0,100.0)), (Rect(5.0,100.0,0.0,GenericAttribs(Some(#e55582),None,None)),Point(195.0,100.0))),\n",
       "    \u001b[33mGenericAttribs\u001b[39m(None, None, None)\n",
       "  ),\n",
       "  \u001b[33mPoint\u001b[39m(\u001b[32m100.0\u001b[39m, \u001b[32m300.0\u001b[39m)\n",
       ")\n",
       "\u001b[36md\u001b[39m: \u001b[32mDraw\u001b[39m = skac.miro.draw.svg.Draw@501cd206\n",
       "\u001b[36mres8_3\u001b[39m: \u001b[32mString\u001b[39m = \u001b[32m\"\"\"\n",
       "<?xml version='1.0' encoding='UTF-8'?>\n",
       "<svg viewBox=\"200.0 400.0 100.0 100.0\" preserveAspectRatio=\"xMidYMid meet\" xmlns=\"http://www.w3.org/2000/svg\" xmlns:svg=\"http://www.w3.org/2000/svg\"><g transform=\"translate(100.0, 300.0)\"><rect fill=\"#f095ce\" x=\"100.0\" y=\"100.0\" width=\"5.0\" height=\"100.0\" transform=\"rotate(0.0, 100.0, 100.0)\"/><rect fill=\"#9e182a\" x=\"105.0\" y=\"100.0\" width=\"5.0\" height=\"100.0\" transform=\"rotate(0.0, 105.0, 100.0)\"/><rect fill=\"#761341\" x=\"110.0\" y=\"100.0\" width=\"5.0\" height=\"100.0\" transform=\"rotate(0.0, 110.0, 100.0)\"/><rect fill=\"#d21c5a\" x=\"115.0\" y=\"100.0\" width=\"5.0\" height=\"100.0\" transform=\"rotate(0.0, 115.0, 100.0)\"/><rect fill=\"#e55582\" x=\"120.0\" y=\"100.0\" width=\"5.0\" height=\"100.0\" transform=\"rotate(0.0, 120.0, 100.0)\"/><rect fill=\"#f095ce\" x=\"125.0\" y=\"100.0\" width=\"5.0\" height=\"100.0\" transform=\"rotate(0.0, 125.0, 100.0)\"/><rect fill=\"#9e182a\" x=\"130.0\" y=\"100.0\" width=\"5.0\" height=\"100.0\" transform=\"rotate(0.0, 130.0, 100.0)\"/><rect fill=\"#761341\" x=\"135.0\" y=\"100.0\" width=\"5.0\" height=\"100.0\" transform=\"rotate(0.0, 135.0, 100.0)\"/><rect fill=\"#d21c5a\" x=\"140.0\" y=\"100.0\" width=\"5.0\" height=\"100.0\" transform=\"rotate(0.0, 140.0, 100.0)\"/><rect fill=\"#e55582\" x=\"145.0\" y=\"100.0\" width=\"5.0\" height=\"100.0\" transform=\"rotate(0.0, 145.0, 100.0)\"/><rect fill=\"#f095ce\" x=\"150.0\" y=\"100.0\" width=\"5.0\" height=\"100.0\" transform=\"rotate(0.0, 150.0, 100.0)\"/><rect fill=\"#9e182a\" x=\"155.0\" y=\"100.0\" width=\"5.0\" height=\"100.0\" transform=\"rotate(0.0, 155.0, 100.0)\"/><rect fill=\"#761341\" x=\"160.0\" y=\"100.0\" width=\"5.0\" height=\"100.0\" transform=\"rotate(0.0, 160.0, 100.0)\"/><rect fill=\"#d21c5a\" x=\"165.0\" y=\"100.0\" width=\"5.0\" height=\"100.0\" transform=\"rotate(0.0, 165.0, 100.0)\"/><rect fill=\"#e55582\" x=\"170.0\" y=\"100.0\" width=\"5.0\" height=\"100.0\" transform=\"rotate(0.0, 170.0, 100.0)\"/><rect fill=\"#f095ce\" x=\"175.0\" y=\"100.0\" width=\"5.0\" height=\"100.0\" transform=\"rotate(0.0, 175.0, 100.0)\"/><rect fill=\"#9e182a\" x=\"180.0\" y=\"100.0\" width=\"5.0\" height=\"100.0\" transform=\"rotate(0.0, 180.0, 100.0)\"/><rect fill=\"#761341\" x=\"185.0\" y=\"100.0\" width=\"5.0\" height=\"100.0\" transform=\"rotate(0.0, 185.0, 100.0)\"/><rect fill=\"#d21c5a\" x=\"190.0\" y=\"100.0\" width=\"5.0\" height=\"100.0\" transform=\"rotate(0.0, 190.0, 100.0)\"/><rect fill=\"#e55582\" x=\"195.0\" y=\"100.0\" width=\"5.0\" height=\"100.0\" transform=\"rotate(0.0, 195.0, 100.0)\"/></g></svg>\n",
       "\"\"\"\u001b[39m"
      ]
     },
     "execution_count": 9,
     "metadata": {},
     "output_type": "execute_result"
    }
   ],
   "source": [
    "object ExampleBars {\n",
    "  def group = {\n",
    "    val r = (Rect(100, 100), Point(100.0, 100.0))\n",
    "    val part = Partition.random(15, -5)\n",
    "    val base_color = Color(.7, .1, .2)   \n",
    "    val styler = Selected(Palette.randSimHsl(base_color, 5, 0.4, .01, .3))\n",
    "    val repl = Bars(20, 'SIDETYPE_WIDTH, Some(styler))\n",
    "    val out = repl((Seq(r), Nil))._1\n",
    "    Group(out)\n",
    "  }\n",
    "}\n",
    "    \n",
    "val gp = (ExampleBars.group, Point(100, 300))\n",
    "val d = new Draw()\n",
    "d.strDoc(gp)"
   ]
  },
  {
   "cell_type": "code",
   "execution_count": null,
   "metadata": {
    "collapsed": true
   },
   "outputs": [],
   "source": []
  }
 ],
 "metadata": {
  "kernelspec": {
   "display_name": "Scala (develop)",
   "language": "scala",
   "name": "scala-develop"
  },
  "language_info": {
   "codemirror_mode": "text/x-scala",
   "file_extension": ".scala",
   "mimetype": "text/x-scala",
   "name": "scala212",
   "nbconvert_exporter": "script",
   "pygments_lexer": "scala",
   "version": "2.12.2"
  }
 },
 "nbformat": 4,
 "nbformat_minor": 2
}
