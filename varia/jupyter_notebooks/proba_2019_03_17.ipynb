{
 "cells": [
  {
   "cell_type": "code",
   "execution_count": 1,
   "metadata": {},
   "outputs": [],
   "source": [
    "interp.load.ivy(\"skac\" %% \"fractalizer\" % \"0.0.1-SNAPSHOT\")\n",
    "interp.load.ivy(\"skac\" %% \"miro\" % \"1.0.4-SNAPSHOT\")\n",
    "interp.load.ivy(\"skac\" %% \"vgutils\" % \"0.1.0-SNAPSHOT\")"
   ]
  },
  {
   "cell_type": "code",
   "execution_count": 2,
   "metadata": {},
   "outputs": [
    {
     "data": {
      "text/plain": [
       "\u001b[32mimport \u001b[39m\u001b[36mskac.miro.draw.svg._\n",
       "\u001b[39m\n",
       "\u001b[32mimport \u001b[39m\u001b[36mskac.miro.graphics._\n",
       "\u001b[39m\n",
       "\u001b[32mimport \u001b[39m\u001b[36mskac.miro.attribs.colors._\n",
       "\u001b[39m\n",
       "\u001b[32mimport \u001b[39m\u001b[36mskac.miro._\n",
       "\u001b[39m\n",
       "\u001b[32mimport \u001b[39m\u001b[36mskac.miro.segments._\n",
       "\u001b[39m\n",
       "\u001b[32mimport \u001b[39m\u001b[36mskac.fractalizer.stylers.colorizers._\n",
       "\u001b[39m\n",
       "\u001b[32mimport \u001b[39m\u001b[36mskac.fractalizer.nodes.partitioners._\n",
       "\u001b[39m\n",
       "\u001b[32mimport \u001b[39m\u001b[36mskac.fractalizer._\n",
       "\u001b[39m\n",
       "\u001b[32mimport \u001b[39m\u001b[36mskac.fractalizer.nodes.special._\n",
       "\u001b[39m\n",
       "\u001b[32mimport \u001b[39m\u001b[36mcom.github.skac112.vgutils._\n",
       "\n",
       "\u001b[39m\n",
       "\u001b[36ma\u001b[39m: \u001b[32mArc\u001b[39m = \u001b[33mArc\u001b[39m(\u001b[32m30.0\u001b[39m, \u001b[32m30.0\u001b[39m, \u001b[33mAngle\u001b[39m(\u001b[32m0.0\u001b[39m, \u001b[32m0.0\u001b[39m, \u001b[32m0.0\u001b[39m), true, true, \u001b[33mPoint\u001b[39m(\u001b[32m-30.0\u001b[39m, \u001b[32m-30.0\u001b[39m))"
      ]
     },
     "execution_count": 2,
     "metadata": {},
     "output_type": "execute_result"
    }
   ],
   "source": [
    "import skac.miro.draw.svg._\n",
    "import skac.miro.graphics._\n",
    "import skac.miro.attribs.colors._\n",
    "import skac.miro._\n",
    "import skac.miro.segments._\n",
    "import fractalizer.stylers.colorizers._\n",
    "import fractalizer.nodes.partitioners._\n",
    "import skac.fractalizer._\n",
    "import fractalizer.nodes.special._\n",
    "import com.github.skac112.vgutils._\n",
    "\n",
    "val a = Arc(30.0,30.0,Angle(0.0,0.0,0.0),true,true,Point(-30.0,-30.0))"
   ]
  },
  {
   "cell_type": "code",
   "execution_count": 3,
   "metadata": {},
   "outputs": [
    {
     "data": {
      "text/plain": [
       "\u001b[36mres2\u001b[39m: \u001b[32mBounds\u001b[39m = \u001b[33mBounds\u001b[39m(\n",
       "  \u001b[33mPoint\u001b[39m(\u001b[32m-60.0\u001b[39m, \u001b[32m-30.0\u001b[39m),\n",
       "  \u001b[33mPoint\u001b[39m(\u001b[32m3.552713678800501E-15\u001b[39m, \u001b[32m30.0\u001b[39m),\n",
       "  \u001b[32m'NORMAL_BOUNDS\u001b[39m\n",
       ")"
      ]
     },
     "execution_count": 3,
     "metadata": {},
     "output_type": "execute_result"
    }
   ],
   "source": [
    "a.bounds"
   ]
  },
  {
   "cell_type": "code",
   "execution_count": 5,
   "metadata": {},
   "outputs": [
    {
     "data": {
      "text/plain": [
       "\u001b[36mres4\u001b[39m: \u001b[32mSet\u001b[39m[\u001b[32mPoint\u001b[39m] = \u001b[33mSet\u001b[39m(\n",
       "  \u001b[33mPoint\u001b[39m(\u001b[32m3.552713678800501E-15\u001b[39m, \u001b[32m0.0\u001b[39m),\n",
       "  \u001b[33mPoint\u001b[39m(\u001b[32m-60.0\u001b[39m, \u001b[32m3.67394039744206E-15\u001b[39m)\n",
       ")"
      ]
     },
     "execution_count": 5,
     "metadata": {},
     "output_type": "execute_result"
    }
   ],
   "source": [
    "a.extrX"
   ]
  },
  {
   "cell_type": "code",
   "execution_count": 6,
   "metadata": {},
   "outputs": [
    {
     "data": {
      "text/plain": [
       "\u001b[36mres5\u001b[39m: \u001b[32mSet\u001b[39m[\u001b[32mPoint\u001b[39m] = \u001b[33mSet\u001b[39m(\n",
       "  \u001b[33mPoint\u001b[39m(\u001b[32m-29.999999999999993\u001b[39m, \u001b[32m30.0\u001b[39m),\n",
       "  \u001b[33mPoint\u001b[39m(\u001b[32m-30.000000000000004\u001b[39m, \u001b[32m-30.0\u001b[39m)\n",
       ")"
      ]
     },
     "execution_count": 6,
     "metadata": {},
     "output_type": "execute_result"
    }
   ],
   "source": [
    "a.extrY"
   ]
  },
  {
   "cell_type": "code",
   "execution_count": 4,
   "metadata": {},
   "outputs": [
    {
     "data": {
      "text/plain": [
       "\u001b[36mres3\u001b[39m: \u001b[32mPoint\u001b[39m = \u001b[33mPoint\u001b[39m(\u001b[32m-29.999999999999996\u001b[39m, \u001b[32m0.0\u001b[39m)"
      ]
     },
     "execution_count": 4,
     "metadata": {},
     "output_type": "execute_result"
    }
   ],
   "source": [
    "a.c"
   ]
  },
  {
   "cell_type": "code",
   "execution_count": null,
   "metadata": {},
   "outputs": [],
   "source": []
  }
 ],
 "metadata": {
  "kernelspec": {
   "display_name": "Scala",
   "language": "scala",
   "name": "scala"
  },
  "language_info": {
   "codemirror_mode": "text/x-scala",
   "file_extension": ".scala",
   "mimetype": "text/x-scala",
   "name": "scala",
   "nbconvert_exporter": "script",
   "version": "2.12.8"
  }
 },
 "nbformat": 4,
 "nbformat_minor": 2
}
