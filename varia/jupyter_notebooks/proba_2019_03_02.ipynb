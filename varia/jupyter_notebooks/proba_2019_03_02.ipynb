{
 "cells": [
  {
   "cell_type": "code",
   "execution_count": 1,
   "metadata": {},
   "outputs": [],
   "source": [
    "interp.load.ivy(\"skac\" %% \"fractalizer\" % \"0.0.1-SNAPSHOT\")\n",
    "interp.load.ivy(\"skac\" %% \"miro\" % \"1.0.4-SNAPSHOT\")\n",
    "interp.load.ivy(\"skac\" %% \"vgutils\" % \"0.1.0-SNAPSHOT\")"
   ]
  },
  {
   "cell_type": "code",
   "execution_count": 20,
   "metadata": {},
   "outputs": [
    {
     "data": {
      "text/plain": [
       "\u001b[32mimport \u001b[39m\u001b[36mskac.miro.draw.svg._\n",
       "\u001b[39m\n",
       "\u001b[32mimport \u001b[39m\u001b[36mskac.miro.graphics._\n",
       "\u001b[39m\n",
       "\u001b[32mimport \u001b[39m\u001b[36mskac.miro.attribs.colors._\n",
       "\u001b[39m\n",
       "\u001b[32mimport \u001b[39m\u001b[36mskac.miro._\n",
       "\u001b[39m\n",
       "\u001b[32mimport \u001b[39m\u001b[36mskac.fractalizer.stylers.colorizers._\n",
       "\u001b[39m\n",
       "\u001b[32mimport \u001b[39m\u001b[36mskac.fractalizer.nodes.partitioners._\n",
       "\u001b[39m\n",
       "\u001b[32mimport \u001b[39m\u001b[36mskac.fractalizer._\n",
       "\u001b[39m\n",
       "\u001b[32mimport \u001b[39m\u001b[36mskac.fractalizer.nodes.special._\n",
       "\u001b[39m\n",
       "\u001b[32mimport \u001b[39m\u001b[36mcom.github.skac112.vgutils._\n",
       "\n",
       "\u001b[39m\n",
       "defined \u001b[32mobject\u001b[39m \u001b[36mExample29\u001b[39m\n",
       "\u001b[36mg\u001b[39m: \u001b[32mGroup\u001b[39m = \u001b[33mGroup\u001b[39m(\n",
       "  \u001b[33mList\u001b[39m(\n",
       "    (\n",
       "      \u001b[33mCircle\u001b[39m(\n",
       "        \u001b[32m0.0012640815650244248\u001b[39m,\n",
       "        \u001b[33mGenericAttribs\u001b[39m(\n",
       "          \u001b[33mSome\u001b[39m(\n",
       "            \u001b[33mColor\u001b[39m(\n",
       "              \u001b[32m0.9664045968020221\u001b[39m,\n",
       "              \u001b[32m0.9511105076800487\u001b[39m,\n",
       "              \u001b[32m0.6966504949149066\u001b[39m,\n",
       "              \u001b[32m1.0\u001b[39m\n",
       "            )\n",
       "          ),\n",
       "          \u001b[32mNone\u001b[39m,\n",
       "          \u001b[32mNone\u001b[39m\n",
       "        )\n",
       "      ),\n",
       "      \u001b[33mPoint\u001b[39m(\u001b[32m100.0\u001b[39m, \u001b[32m100.0\u001b[39m)\n",
       "    ),\n",
       "    (\n",
       "      \u001b[33mRing\u001b[39m(\n",
       "        \u001b[32m0.0012640815650244248\u001b[39m,\n",
       "        \u001b[32m0.0029770532273562067\u001b[39m,\n",
       "        \u001b[33mGenericAttribs\u001b[39m(\n",
       "          \u001b[33mSome\u001b[39m(\n",
       "            \u001b[33mColor\u001b[39m(\n",
       "              \u001b[32m0.8789677873288135\u001b[39m,\n",
       "              \u001b[32m0.7317575320535337\u001b[39m,\n",
       "              \u001b[32m0.43175773739841333\u001b[39m,\n",
       "              \u001b[32m1.0\u001b[39m\n",
       "            )\n",
       "          ),\n",
       "          \u001b[32mNone\u001b[39m,\n",
       "          \u001b[32mNone\u001b[39m\n",
       "        )\n",
       "      ),\n",
       "      \u001b[33mPoint\u001b[39m(\u001b[32m100.00297705322735\u001b[39m, \u001b[32m100.0\u001b[39m)\n",
       "    ),\n",
       "...\n",
       "\u001b[36mres19_11\u001b[39m: \u001b[32mBounds\u001b[39m = \u001b[33mBounds\u001b[39m(\u001b[33mPoint\u001b[39m(\u001b[32m0.0\u001b[39m, \u001b[32m0.0\u001b[39m), \u001b[33mPoint\u001b[39m(\u001b[32m200.0\u001b[39m, \u001b[32m200.0\u001b[39m), \u001b[32m'NORMAL_BOUNDS\u001b[39m)\n",
       "\u001b[36md\u001b[39m: \u001b[32mDraw\u001b[39m = skac.miro.draw.svg.Draw@11b1884d"
      ]
     },
     "execution_count": 20,
     "metadata": {},
     "output_type": "execute_result"
    }
   ],
   "source": [
    "import skac.miro.draw.svg._\n",
    "import skac.miro.graphics._\n",
    "import skac.miro.attribs.colors._\n",
    "import skac.miro._\n",
    "import fractalizer.stylers.colorizers._\n",
    "import fractalizer.nodes.partitioners._\n",
    "import skac.fractalizer._\n",
    "import fractalizer.nodes.special._\n",
    "import com.github.skac112.vgutils._\n",
    "\n",
    "object Example29 {\n",
    "  def group = {\n",
    "    val c = (Circle(100.0), Point(100.0, 100.0))\n",
    "    val part1 = Partition.power(0.02, 200.0, 50, 10.0).unitValues      \n",
    "    val base_color = Color(math.random, math.random, math.random)\n",
    "    val styler = Selected(Palette.randSimHsl(base_color, 4, .15, .2, .2))\n",
    "    val repl1 = PolarRad(part1, Some(styler))   \n",
    "    val repl = repl1 + DrawCut()\n",
    "    val out = repl(Seq(c)).run._1\n",
    "    Group(out)\n",
    "  }\n",
    "}\n",
    "\n",
    "val g = Example29.group\n",
    "bounds(g)\n",
    "val d = new Draw\n",
    "d.saveToFile(g, \"Example29_10.svg\")"
   ]
  },
  {
   "cell_type": "code",
   "execution_count": 18,
   "metadata": {},
   "outputs": [
    {
     "data": {
      "text/plain": [
       "\u001b[36mpart\u001b[39m: \u001b[32mSeq\u001b[39m[\u001b[32mDouble\u001b[39m] = \u001b[33mVector\u001b[39m(\n",
       "  \u001b[32m0.0\u001b[39m,\n",
       "  \u001b[32m0.020000000000000007\u001b[39m,\n",
       "  \u001b[32m0.07717777541314043\u001b[39m,\n",
       "  \u001b[32m0.20147247983605715\u001b[39m,\n",
       "  \u001b[32m0.4316677004506615\u001b[39m,\n",
       "  \u001b[32m0.8153914580241397\u001b[39m,\n",
       "  \u001b[32m1.409116206908954\u001b[39m,\n",
       "  \u001b[32m2.278158835042841\u001b[39m,\n",
       "  \u001b[32m3.4966806639488137\u001b[39m,\n",
       "  \u001b[32m5.14768744873516\u001b[39m,\n",
       "  \u001b[32m7.323029378095442\u001b[39m,\n",
       "  \u001b[32m10.123401074308498\u001b[39m,\n",
       "  \u001b[32m13.658341593238442\u001b[39m,\n",
       "  \u001b[32m18.046234424334664\u001b[39m,\n",
       "  \u001b[32m23.414307490631828\u001b[39m,\n",
       "  \u001b[32m29.898633148749873\u001b[39m,\n",
       "  \u001b[32m37.644128188894015\u001b[39m,\n",
       "  \u001b[32m46.804553834854744\u001b[39m,\n",
       "  \u001b[32m57.54251574400783\u001b[39m,\n",
       "  \u001b[32m70.0294640073143\u001b[39m,\n",
       "  \u001b[32m84.44569314932048\u001b[39m,\n",
       "  \u001b[32m100.98034212815796\u001b[39m,\n",
       "  \u001b[32m119.8313943355436\u001b[39m,\n",
       "  \u001b[32m141.20567759677957\u001b[39m,\n",
       "  \u001b[32m165.31886417075324\u001b[39m,\n",
       "  \u001b[32m192.39547074993735\u001b[39m,\n",
       "  \u001b[32m222.66885846038983\u001b[39m,\n",
       "  \u001b[32m256.381232861754\u001b[39m,\n",
       "  \u001b[32m293.7836439472582\u001b[39m,\n",
       "  \u001b[32m335.1359861437164\u001b[39m,\n",
       "  \u001b[32m380.7069983115276\u001b[39m,\n",
       "  \u001b[32m430.7742637446762\u001b[39m,\n",
       "  \u001b[32m485.62421017073177\u001b[39m,\n",
       "  \u001b[32m545.5521097508492\u001b[39m,\n",
       "  \u001b[32m610.8620790797687\u001b[39m,\n",
       "  \u001b[32m681.8670791858157\u001b[39m,\n",
       "  \u001b[32m758.8889155309008\u001b[39m,\n",
       "  \u001b[32m842.2582380105201\u001b[39m,\n",
       "..."
      ]
     },
     "execution_count": 18,
     "metadata": {},
     "output_type": "execute_result"
    }
   ],
   "source": [
    "val part = Partition.power(0.02, 200.0, 50, 3.0).levels"
   ]
  },
  {
   "cell_type": "code",
   "execution_count": null,
   "metadata": {},
   "outputs": [],
   "source": []
  }
 ],
 "metadata": {
  "kernelspec": {
   "display_name": "Scala",
   "language": "scala",
   "name": "scala"
  },
  "language_info": {
   "codemirror_mode": "text/x-scala",
   "file_extension": ".scala",
   "mimetype": "text/x-scala",
   "name": "scala",
   "nbconvert_exporter": "script",
   "version": "2.12.8"
  }
 },
 "nbformat": 4,
 "nbformat_minor": 2
}
