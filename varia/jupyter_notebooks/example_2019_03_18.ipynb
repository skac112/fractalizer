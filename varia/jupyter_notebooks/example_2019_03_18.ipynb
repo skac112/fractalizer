{
 "cells": [
  {
   "cell_type": "code",
   "execution_count": 1,
   "metadata": {},
   "outputs": [],
   "source": [
    "interp.load.ivy(\"skac\" %% \"fractalizer\" % \"0.0.1-SNAPSHOT\")\n",
    "interp.load.ivy(\"skac\" %% \"miro\" % \"1.0.4-SNAPSHOT\")\n",
    "interp.load.ivy(\"skac\" %% \"vgutils\" % \"0.1.0-SNAPSHOT\")"
   ]
  },
  {
   "cell_type": "code",
   "execution_count": 4,
   "metadata": {},
   "outputs": [
    {
     "data": {
      "text/plain": [
       "\u001b[32mimport \u001b[39m\u001b[36mskac.miro.draw.svg._\n",
       "\u001b[39m\n",
       "\u001b[32mimport \u001b[39m\u001b[36mskac.miro.graphics._\n",
       "\u001b[39m\n",
       "\u001b[32mimport \u001b[39m\u001b[36mskac.miro.attribs.colors._\n",
       "\u001b[39m\n",
       "\u001b[32mimport \u001b[39m\u001b[36mskac.miro._\n",
       "\u001b[39m\n",
       "\u001b[32mimport \u001b[39m\u001b[36mskac.fractalizer.stylers.colorizers._\n",
       "\u001b[39m\n",
       "\u001b[32mimport \u001b[39m\u001b[36mskac.fractalizer.nodes.partitioners._\n",
       "\u001b[39m\n",
       "\u001b[32mimport \u001b[39m\u001b[36mskac.fractalizer._\n",
       "\u001b[39m\n",
       "\u001b[32mimport \u001b[39m\u001b[36mskac.fractalizer.nodes.special._\n",
       "\u001b[39m\n",
       "\u001b[32mimport \u001b[39m\u001b[36mcom.github.skac112.vgutils._\n",
       "\u001b[39m\n",
       "\u001b[32mimport \u001b[39m\u001b[36mscala.math._\n",
       "\n",
       "// start color\n",
       "\u001b[39m\n",
       "\u001b[36mstart_col\u001b[39m: \u001b[32mColor\u001b[39m = \u001b[33mColor\u001b[39m(\n",
       "  \u001b[32m0.7916651423829107\u001b[39m,\n",
       "  \u001b[32m0.38152818715295456\u001b[39m,\n",
       "  \u001b[32m0.14021817595114683\u001b[39m,\n",
       "  \u001b[32m1.0\u001b[39m\n",
       ")\n",
       "\u001b[36mp\u001b[39m: \u001b[32mcollection\u001b[39m.\u001b[32mimmutable\u001b[39m.\u001b[32mIndexedSeq\u001b[39m[\u001b[32mMiroColor\u001b[39m] = \u001b[33mVector\u001b[39m(\n",
       "  \u001b[33mColor\u001b[39m(\u001b[32m0.7916651423829107\u001b[39m, \u001b[32m0.38152818715295456\u001b[39m, \u001b[32m0.14021817595114683\u001b[39m, \u001b[32m1.0\u001b[39m),\n",
       "  \u001b[33mColor\u001b[39m(\u001b[32m0.4200657378947502\u001b[39m, \u001b[32m0.7916651423829107\u001b[39m, \u001b[32m0.14021817595114683\u001b[39m, \u001b[32m1.0\u001b[39m),\n",
       "  \u001b[33mColor\u001b[39m(\u001b[32m0.14021817595114683\u001b[39m, \u001b[32m0.7916651423829107\u001b[39m, \u001b[32m0.6421069737256603\u001b[39m, \u001b[32m1.0\u001b[39m),\n",
       "  \u001b[33mColor\u001b[39m(\u001b[32m0.14021817595114683\u001b[39m, \u001b[32m0.1594869513220447\u001b[39m, \u001b[32m0.7916651423829107\u001b[39m, \u001b[32m1.0\u001b[39m),\n",
       "  \u001b[33mColor\u001b[39m(\u001b[32m0.7916651423829107\u001b[39m, \u001b[32m0.14021817595114683\u001b[39m, \u001b[32m0.680644524467456\u001b[39m, \u001b[32m1.0\u001b[39m)\n",
       ")\n",
       "\u001b[36ms\u001b[39m: \u001b[32mSelected\u001b[39m = \u001b[33mSelected\u001b[39m(\n",
       "  \u001b[33mVector\u001b[39m(\n",
       "    \u001b[33mColor\u001b[39m(\u001b[32m0.7916651423829107\u001b[39m, \u001b[32m0.38152818715295456\u001b[39m, \u001b[32m0.14021817595114683\u001b[39m, \u001b[32m1.0\u001b[39m),\n",
       "    \u001b[33mColor\u001b[39m(\u001b[32m0.4200657378947502\u001b[39m, \u001b[32m0.7916651423829107\u001b[39m, \u001b[32m0.14021817595114683\u001b[39m, \u001b[32m1.0\u001b[39m),\n",
       "    \u001b[33mColor\u001b[39m(\u001b[32m0.14021817595114683\u001b[39m, \u001b[32m0.7916651423829107\u001b[39m, \u001b[32m0.6421069737256603\u001b[39m, \u001b[32m1.0\u001b[39m),\n",
       "    \u001b[33mColor\u001b[39m(\u001b[32m0.14021817595114683\u001b[39m, \u001b[32m0.1594869513220447\u001b[39m, \u001b[32m0.7916651423829107\u001b[39m, \u001b[32m1.0\u001b[39m),\n",
       "    \u001b[33mColor\u001b[39m(\u001b[32m0.7916651423829107\u001b[39m, \u001b[32m0.14021817595114683\u001b[39m, \u001b[32m0.680644524467456\u001b[39m, \u001b[32m1.0\u001b[39m)\n",
       "  ),\n",
       "  \u001b[33mAngle\u001b[39m(\u001b[32m0.0\u001b[39m, \u001b[32m0.0\u001b[39m, \u001b[32m0.0\u001b[39m),\n",
       "  \u001b[32m0.0\u001b[39m,\n",
       "  \u001b[32m0.0\u001b[39m\n",
       ")\n",
       "\u001b[36mpart\u001b[39m: \u001b[32mPartition\u001b[39m = \u001b[33mPartition\u001b[39m(\n",
       "  \u001b[33mVector\u001b[39m(\n",
       "    \u001b[32m0.09999999999999999\u001b[39m,\n",
       "    \u001b[32m0.11117481380587672\u001b[39m,\n",
       "    \u001b[32m0.12326102751442773\u001b[39m,\n",
       "    \u001b[32m0.13630689853795888\u001b[39m,\n",
       "    \u001b[32m0.1503619292660224\u001b[39m,\n",
       "    \u001b[32m0.16547686706541692\u001b[39m,\n",
       "    \u001b[32m0.18170370428018737\u001b[39m,\n",
       "    \u001b[32m0.199095678231625\u001b[39m,\n",
       "    \u001b[32m0.21770727121826752\u001b[39m,\n",
       "    \u001b[32m0.2375942105158989\u001b[39m,\n",
       "    \u001b[32m0.2588134683775495\u001b[39m,\n",
       "    \u001b[32m0.2814232620334958\u001b[39m,\n",
       "    \u001b[32m0.30548305369126133\u001b[39m,\n",
       "    \u001b[32m0.3310535505356152\u001b[39m,\n",
       "    \u001b[32m0.35819670472857323\u001b[39m,\n",
       "    \u001b[32m0.38697571340939757\u001b[39m,\n",
       "    \u001b[32m0.4174550186945966\u001b[39m,\n",
       "    \u001b[32m0.44970030767792524\u001b[39m,\n",
       "    \u001b[32m0.48377851243038456\u001b[39m,\n",
       "    \u001b[32m0.5197578100002221\u001b[39m,\n",
       "    \u001b[32m0.5577076224129319\u001b[39m,\n",
       "    \u001b[32m0.5976986166712537\u001b[39m,\n",
       "    \u001b[32m0.6398027047551748\u001b[39m,\n",
       "    \u001b[32m0.6840930436219277\u001b[39m,\n",
       "    \u001b[32m0.7306440352059919\u001b[39m,\n",
       "    \u001b[32m0.7795313264190928\u001b[39m,\n",
       "    \u001b[32m0.8308318091502026\u001b[39m,\n",
       "    \u001b[32m0.8846236202655395\u001b[39m,\n",
       "    \u001b[32m0.9409861416085683\u001b[39m,\n",
       "    \u001b[32m1.0\u001b[39m\n",
       "  )\n",
       ")\n",
       "\u001b[36mbars_node\u001b[39m: \u001b[32mrectangles\u001b[39m.\u001b[32mBars\u001b[39m = \u001b[33mBars\u001b[39m(\n",
       "  \u001b[33mPartition\u001b[39m(\n",
       "    \u001b[33mVector\u001b[39m(\n",
       "      \u001b[32m0.09999999999999999\u001b[39m,\n",
       "      \u001b[32m0.11117481380587672\u001b[39m,\n",
       "      \u001b[32m0.12326102751442773\u001b[39m,\n",
       "      \u001b[32m0.13630689853795888\u001b[39m,\n",
       "      \u001b[32m0.1503619292660224\u001b[39m,\n",
       "      \u001b[32m0.16547686706541692\u001b[39m,\n",
       "      \u001b[32m0.18170370428018737\u001b[39m,\n",
       "      \u001b[32m0.199095678231625\u001b[39m,\n",
       "      \u001b[32m0.21770727121826752\u001b[39m,\n",
       "      \u001b[32m0.2375942105158989\u001b[39m,\n",
       "      \u001b[32m0.2588134683775495\u001b[39m,\n",
       "      \u001b[32m0.2814232620334958\u001b[39m,\n",
       "      \u001b[32m0.30548305369126133\u001b[39m,\n",
       "      \u001b[32m0.3310535505356152\u001b[39m,\n",
       "      \u001b[32m0.35819670472857323\u001b[39m,\n",
       "      \u001b[32m0.38697571340939757\u001b[39m,\n",
       "      \u001b[32m0.4174550186945966\u001b[39m,\n",
       "      \u001b[32m0.44970030767792524\u001b[39m,\n",
       "      \u001b[32m0.48377851243038456\u001b[39m,\n",
       "      \u001b[32m0.5197578100002221\u001b[39m,\n",
       "      \u001b[32m0.5577076224129319\u001b[39m,\n",
       "      \u001b[32m0.5976986166712537\u001b[39m,\n",
       "      \u001b[32m0.6398027047551748\u001b[39m,\n",
       "      \u001b[32m0.6840930436219277\u001b[39m,\n",
       "      \u001b[32m0.7306440352059919\u001b[39m,\n",
       "      \u001b[32m0.7795313264190928\u001b[39m,\n",
       "      \u001b[32m0.8308318091502026\u001b[39m,\n",
       "      \u001b[32m0.8846236202655395\u001b[39m,\n",
       "      \u001b[32m0.9409861416085683\u001b[39m,\n",
       "      \u001b[32m1.0\u001b[39m\n",
       "    )\n",
       "  ),\n",
       "  \u001b[32m'SIDETYPE_WIDTH\u001b[39m,\n",
       "  \u001b[33mSome\u001b[39m(\n",
       "    \u001b[33mSelected\u001b[39m(\n",
       "      \u001b[33mVector\u001b[39m(\n",
       "...\n",
       "\u001b[36mrect\u001b[39m: (\u001b[32mRect\u001b[39m, \u001b[32mPoint\u001b[39m) = (\n",
       "  \u001b[33mRect\u001b[39m(\u001b[32m100.0\u001b[39m, \u001b[32m100.0\u001b[39m, \u001b[32m0.0\u001b[39m, \u001b[33mGenericAttribs\u001b[39m(\u001b[32mNone\u001b[39m, \u001b[32mNone\u001b[39m, \u001b[32mNone\u001b[39m)),\n",
       "  \u001b[33mPoint\u001b[39m(\u001b[32m0.0\u001b[39m, \u001b[32m0.0\u001b[39m)\n",
       ")\n",
       "\u001b[36mrepl\u001b[39m: \u001b[32mnodes\u001b[39m.\u001b[32mcomposition\u001b[39m.\u001b[32mAdd\u001b[39m = \u001b[33mAdd\u001b[39m(\n",
       "  \u001b[33mBars\u001b[39m(\n",
       "    \u001b[33mPartition\u001b[39m(\n",
       "      \u001b[33mVector\u001b[39m(\n",
       "        \u001b[32m0.09999999999999999\u001b[39m,\n",
       "        \u001b[32m0.11117481380587672\u001b[39m,\n",
       "        \u001b[32m0.12326102751442773\u001b[39m,\n",
       "        \u001b[32m0.13630689853795888\u001b[39m,\n",
       "        \u001b[32m0.1503619292660224\u001b[39m,\n",
       "        \u001b[32m0.16547686706541692\u001b[39m,\n",
       "        \u001b[32m0.18170370428018737\u001b[39m,\n",
       "        \u001b[32m0.199095678231625\u001b[39m,\n",
       "        \u001b[32m0.21770727121826752\u001b[39m,\n",
       "        \u001b[32m0.2375942105158989\u001b[39m,\n",
       "        \u001b[32m0.2588134683775495\u001b[39m,\n",
       "        \u001b[32m0.2814232620334958\u001b[39m,\n",
       "        \u001b[32m0.30548305369126133\u001b[39m,\n",
       "        \u001b[32m0.3310535505356152\u001b[39m,\n",
       "        \u001b[32m0.35819670472857323\u001b[39m,\n",
       "        \u001b[32m0.38697571340939757\u001b[39m,\n",
       "        \u001b[32m0.4174550186945966\u001b[39m,\n",
       "        \u001b[32m0.44970030767792524\u001b[39m,\n",
       "        \u001b[32m0.48377851243038456\u001b[39m,\n",
       "        \u001b[32m0.5197578100002221\u001b[39m,\n",
       "        \u001b[32m0.5577076224129319\u001b[39m,\n",
       "        \u001b[32m0.5976986166712537\u001b[39m,\n",
       "        \u001b[32m0.6398027047551748\u001b[39m,\n",
       "        \u001b[32m0.6840930436219277\u001b[39m,\n",
       "        \u001b[32m0.7306440352059919\u001b[39m,\n",
       "        \u001b[32m0.7795313264190928\u001b[39m,\n",
       "        \u001b[32m0.8308318091502026\u001b[39m,\n",
       "        \u001b[32m0.8846236202655395\u001b[39m,\n",
       "        \u001b[32m0.9409861416085683\u001b[39m,\n",
       "        \u001b[32m1.0\u001b[39m\n",
       "      )\n",
       "    ),\n",
       "    \u001b[32m'SIDETYPE_WIDTH\u001b[39m,\n",
       "    \u001b[33mSome\u001b[39m(\n",
       "      \u001b[33mSelected\u001b[39m(\n",
       "...\n",
       "\u001b[36mout\u001b[39m: \u001b[32mEnsemble\u001b[39m = \u001b[33mList\u001b[39m(\n",
       "  (\n",
       "    \u001b[33mRect\u001b[39m(\n",
       "      \u001b[32m0.7656241657278853\u001b[39m,\n",
       "      \u001b[32m100.0\u001b[39m,\n",
       "      \u001b[32m0.0\u001b[39m,\n",
       "      \u001b[33mGenericAttribs\u001b[39m(\n",
       "        \u001b[33mSome\u001b[39m(\n",
       "          \u001b[33mColor\u001b[39m(\n",
       "            \u001b[32m0.7916651423829107\u001b[39m,\n",
       "            \u001b[32m0.38152818715295456\u001b[39m,\n",
       "            \u001b[32m0.14021817595114683\u001b[39m,\n",
       "            \u001b[32m1.0\u001b[39m\n",
       "          )\n",
       "        ),\n",
       "        \u001b[32mNone\u001b[39m,\n",
       "        \u001b[32mNone\u001b[39m\n",
       "      )\n",
       "    ),\n",
       "    \u001b[33mPoint\u001b[39m(\u001b[32m0.0\u001b[39m, \u001b[32m0.0\u001b[39m)\n",
       "  ),\n",
       "  (\n",
       "    \u001b[33mRect\u001b[39m(\n",
       "      \u001b[32m0.8511812407007735\u001b[39m,\n",
       "      \u001b[32m100.0\u001b[39m,\n",
       "      \u001b[32m0.0\u001b[39m,\n",
       "      \u001b[33mGenericAttribs\u001b[39m(\n",
       "        \u001b[33mSome\u001b[39m(\n",
       "          \u001b[33mColor\u001b[39m(\n",
       "            \u001b[32m0.4200657378947502\u001b[39m,\n",
       "            \u001b[32m0.7916651423829107\u001b[39m,\n",
       "            \u001b[32m0.14021817595114683\u001b[39m,\n",
       "            \u001b[32m1.0\u001b[39m\n",
       "          )\n",
       "        ),\n",
       "        \u001b[32mNone\u001b[39m,\n",
       "        \u001b[32mNone\u001b[39m\n",
       "      )\n",
       "    ),\n",
       "...\n",
       "\u001b[36mg\u001b[39m: \u001b[32mGroup\u001b[39m = \u001b[33mGroup\u001b[39m(\n",
       "  \u001b[33mList\u001b[39m(\n",
       "    (\n",
       "      \u001b[33mRect\u001b[39m(\n",
       "        \u001b[32m0.7656241657278853\u001b[39m,\n",
       "        \u001b[32m100.0\u001b[39m,\n",
       "        \u001b[32m0.0\u001b[39m,\n",
       "        \u001b[33mGenericAttribs\u001b[39m(\n",
       "          \u001b[33mSome\u001b[39m(\n",
       "            \u001b[33mColor\u001b[39m(\n",
       "              \u001b[32m0.7916651423829107\u001b[39m,\n",
       "              \u001b[32m0.38152818715295456\u001b[39m,\n",
       "              \u001b[32m0.14021817595114683\u001b[39m,\n",
       "              \u001b[32m1.0\u001b[39m\n",
       "            )\n",
       "          ),\n",
       "          \u001b[32mNone\u001b[39m,\n",
       "          \u001b[32mNone\u001b[39m\n",
       "        )\n",
       "      ),\n",
       "      \u001b[33mPoint\u001b[39m(\u001b[32m0.0\u001b[39m, \u001b[32m0.0\u001b[39m)\n",
       "    ),\n",
       "    (\n",
       "      \u001b[33mRect\u001b[39m(\n",
       "        \u001b[32m0.8511812407007735\u001b[39m,\n",
       "        \u001b[32m100.0\u001b[39m,\n",
       "        \u001b[32m0.0\u001b[39m,\n",
       "        \u001b[33mGenericAttribs\u001b[39m(\n",
       "          \u001b[33mSome\u001b[39m(\n",
       "            \u001b[33mColor\u001b[39m(\n",
       "              \u001b[32m0.4200657378947502\u001b[39m,\n",
       "              \u001b[32m0.7916651423829107\u001b[39m,\n",
       "              \u001b[32m0.14021817595114683\u001b[39m,\n",
       "              \u001b[32m1.0\u001b[39m\n",
       "            )\n",
       "          ),\n",
       "          \u001b[32mNone\u001b[39m,\n",
       "          \u001b[32mNone\u001b[39m\n",
       "        )\n",
       "...\n",
       "\u001b[36md\u001b[39m: \u001b[32mDraw\u001b[39m = skac.miro.draw.svg.Draw@3608996b"
      ]
     },
     "execution_count": 4,
     "metadata": {},
     "output_type": "execute_result"
    }
   ],
   "source": [
    "import skac.miro.draw.svg._\n",
    "import skac.miro.graphics._\n",
    "import skac.miro.attribs.colors._\n",
    "import skac.miro._\n",
    "import skac.fractalizer.stylers.colorizers._\n",
    "import skac.fractalizer.nodes.partitioners._\n",
    "import skac.fractalizer._\n",
    "import skac.fractalizer.nodes.special._\n",
    "import com.github.skac112.vgutils._\n",
    "import scala.math._\n",
    "\n",
    "// start color\n",
    "val start_col = Color(random, random, random)\n",
    "// palette\n",
    "val p = Palette.hueSpan(start_col, 5)\n",
    "// styler\n",
    "val s = Selected(p)\n",
    "val part = Partition.power(0.1, 1.0, 30, 4.0)\n",
    "val bars_node = rectangles.Bars(part, 'SIDETYPE_WIDTH, Some(s))\n",
    "val rect = (Rect(100.0, 100.0), Point(0, 0))\n",
    "val repl = bars_node + DrawCut()\n",
    "val out = repl(Seq(rect)).run._1\n",
    "val g = Group(out)\n",
    "val d = new Draw\n",
    "d.saveToFile(g, \"drawings/example_2019_03_18_4.svg\")"
   ]
  },
  {
   "cell_type": "code",
   "execution_count": 9,
   "metadata": {},
   "outputs": [
    {
     "data": {
      "text/plain": [
       "\u001b[36mc1\u001b[39m: \u001b[32mColor\u001b[39m = \u001b[33mColor\u001b[39m(\u001b[32m0.75\u001b[39m, \u001b[32m0.3454929658551372\u001b[39m, \u001b[32m0.25\u001b[39m, \u001b[32m1.0\u001b[39m)"
      ]
     },
     "execution_count": 9,
     "metadata": {},
     "output_type": "execute_result"
    }
   ],
   "source": [
    "val c1 = Color.hsla(0.2, 0.5, 0.5)"
   ]
  },
  {
   "cell_type": "code",
   "execution_count": 14,
   "metadata": {},
   "outputs": [
    {
     "data": {
      "text/plain": [
       "\u001b[36mc2\u001b[39m: \u001b[32mMiroColor\u001b[39m = \u001b[33mColor\u001b[39m(\u001b[32m0.75\u001b[39m, \u001b[32m0.3454929658551372\u001b[39m, \u001b[32m0.25\u001b[39m, \u001b[32m1.0\u001b[39m)"
      ]
     },
     "execution_count": 14,
     "metadata": {},
     "output_type": "execute_result"
    }
   ],
   "source": [
    "val c2 = MiroColor.toMiroColor(Color.hsla(start_col.h + 0.2, c1.s, c1.l))"
   ]
  },
  {
   "cell_type": "code",
   "execution_count": 15,
   "metadata": {},
   "outputs": [
    {
     "data": {
      "text/plain": [
       "\u001b[36mres14\u001b[39m: (\u001b[32mAngle\u001b[39m, \u001b[32mDouble\u001b[39m, \u001b[32mDouble\u001b[39m) = (\n",
       "  \u001b[33mAngle\u001b[39m(\u001b[32m0.0\u001b[39m, \u001b[32m0.0\u001b[39m, \u001b[32m0.20000000000000004\u001b[39m),\n",
       "  \u001b[32m0.5\u001b[39m,\n",
       "  \u001b[32m0.5\u001b[39m\n",
       ")"
      ]
     },
     "execution_count": 15,
     "metadata": {},
     "output_type": "execute_result"
    }
   ],
   "source": [
    "(c2.h, c2.s, c2.l)"
   ]
  },
  {
   "cell_type": "code",
   "execution_count": 21,
   "metadata": {},
   "outputs": [
    {
     "data": {
      "text/plain": [
       "defined \u001b[32mfunction\u001b[39m \u001b[36mhueSpan\u001b[39m"
      ]
     },
     "execution_count": 21,
     "metadata": {},
     "output_type": "execute_result"
    }
   ],
   "source": [
    "def hueSpan(startColor: Color, num: Int) = {\n",
    "    val start_h = startColor.h\n",
    "    val step = Angle(2.0 * math.Pi / num)\n",
    "    println(step * 0)\n",
    "    for (i <- 1 to num) yield MiroColor.toMiroColor(Color.hsla(start_h + (step * (i - 1)), startColor.s, startColor.l))\n",
    "  }"
   ]
  },
  {
   "cell_type": "code",
   "execution_count": 22,
   "metadata": {},
   "outputs": [
    {
     "name": "stdout",
     "output_type": "stream",
     "text": [
      "Angle(0.0,0.0,Infinity)\n"
     ]
    },
    {
     "data": {
      "text/plain": [
       "\u001b[36mres21\u001b[39m: \u001b[32mcollection\u001b[39m.\u001b[32mimmutable\u001b[39m.\u001b[32mIndexedSeq\u001b[39m[\u001b[32mMiroColor\u001b[39m] = \u001b[33mVector\u001b[39m(\n",
       "  \u001b[33mColor\u001b[39m(\u001b[32m0.7\u001b[39m, \u001b[32m0.0\u001b[39m, \u001b[32mNaN\u001b[39m, \u001b[32m1.0\u001b[39m),\n",
       "  \u001b[33mColor\u001b[39m(\u001b[32m0.5599999999999999\u001b[39m, \u001b[32m0.7\u001b[39m, \u001b[32m0.0\u001b[39m, \u001b[32m1.0\u001b[39m),\n",
       "  \u001b[33mColor\u001b[39m(\u001b[32m0.7\u001b[39m, \u001b[32m0.42\u001b[39m, \u001b[32m0.0\u001b[39m, \u001b[32m1.0\u001b[39m),\n",
       "  \u001b[33mColor\u001b[39m(\u001b[32m0.7\u001b[39m, \u001b[32m0.2799999999999999\u001b[39m, \u001b[32m0.0\u001b[39m, \u001b[32m1.0\u001b[39m),\n",
       "  \u001b[33mColor\u001b[39m(\u001b[32m0.7\u001b[39m, \u001b[32m0.21000000000000002\u001b[39m, \u001b[32m0.0\u001b[39m, \u001b[32m1.0\u001b[39m)\n",
       ")"
      ]
     },
     "execution_count": 22,
     "metadata": {},
     "output_type": "execute_result"
    }
   ],
   "source": [
    "hueSpan(start_col, 5)"
   ]
  },
  {
   "cell_type": "code",
   "execution_count": null,
   "metadata": {},
   "outputs": [],
   "source": []
  }
 ],
 "metadata": {
  "kernelspec": {
   "display_name": "Scala",
   "language": "scala",
   "name": "scala"
  },
  "language_info": {
   "codemirror_mode": "text/x-scala",
   "file_extension": ".scala",
   "mimetype": "text/x-scala",
   "name": "scala",
   "nbconvert_exporter": "script",
   "version": "2.12.8"
  }
 },
 "nbformat": 4,
 "nbformat_minor": 2
}
