{
 "cells": [
  {
   "cell_type": "code",
   "execution_count": 1,
   "metadata": {},
   "outputs": [],
   "source": [
    "interp.load.ivy(\"skac112\" %% \"fractalizer\" % \"0.4.0-SNAPSHOT\")\n",
    "interp.load.ivy(\"skac112\" %% \"miro\" % \"1.0.6-SNAPSHOT\")\n",
    "interp.load.ivy(\"skac112\" %% \"vgutils\" % \"0.1.0-SNAPSHOT\")"
   ]
  },
  {
   "cell_type": "code",
   "execution_count": 3,
   "metadata": {},
   "outputs": [
    {
     "name": "stdout",
     "output_type": "stream",
     "text": [
      "5\n"
     ]
    },
    {
     "ename": "",
     "evalue": "",
     "output_type": "error",
     "traceback": [
      "\u001b[31mjava.lang.IndexOutOfBoundsException: 0\u001b[39m\n  scala.collection.LinearSeqOptimized.apply(\u001b[32mLinearSeqOptimized.scala\u001b[39m:\u001b[32m67\u001b[39m)\n  scala.collection.LinearSeqOptimized.apply$(\u001b[32mLinearSeqOptimized.scala\u001b[39m:\u001b[32m65\u001b[39m)\n  scala.collection.immutable.Stream.apply(\u001b[32mStream.scala\u001b[39m:\u001b[32m204\u001b[39m)\n  com.github.skac112.fractalizer.Node$.$anonfun$makeSingleInProcFun$1(\u001b[32mNode.scala\u001b[39m:\u001b[32m171\u001b[39m)\n  com.github.skac112.fractalizer.Node$.$anonfun$makeProcNodeFun$1(\u001b[32mNode.scala\u001b[39m:\u001b[32m164\u001b[39m)\n  com.github.skac112.fractalizer.SimpleNode$QuickSimpleNode.apply(\u001b[32mSimpleNode.scala\u001b[39m:\u001b[32m14\u001b[39m)\n  com.github.skac112.fractalizer.SimpleNode$QuickSimpleNode.apply(\u001b[32mSimpleNode.scala\u001b[39m:\u001b[32m12\u001b[39m)\n  com.github.skac112.fractalizer.StyledNode.apply(\u001b[32mStyledNode.scala\u001b[39m:\u001b[32m14\u001b[39m)\n  com.github.skac112.fractalizer.StyledNode.apply(\u001b[32mStyledNode.scala\u001b[39m:\u001b[32m11\u001b[39m)\n  com.github.skac112.funnodes.Split.$anonfun$apply$1(\u001b[32mSplit.scala\u001b[39m:\u001b[32m28\u001b[39m)\n  com.github.skac112.fractalizer.package$$anon$1.flatMap(\u001b[32mfractalizer.scala\u001b[39m:\u001b[32m20\u001b[39m)\n  com.github.skac112.fractalizer.package$$anon$1.flatMap(\u001b[32mfractalizer.scala\u001b[39m:\u001b[32m17\u001b[39m)\n  cats.FlatMap$Ops.flatMap(\u001b[32mFlatMap.scala\u001b[39m:\u001b[32m21\u001b[39m)\n  cats.FlatMap$Ops.flatMap$(\u001b[32mFlatMap.scala\u001b[39m:\u001b[32m21\u001b[39m)\n  cats.FlatMap$ToFlatMapOps$$anon$2.flatMap(\u001b[32mFlatMap.scala\u001b[39m:\u001b[32m21\u001b[39m)\n  com.github.skac112.funnodes.Split.apply(\u001b[32mSplit.scala\u001b[39m:\u001b[32m27\u001b[39m)\n  com.github.skac112.funnodes.SplitWhile.apply(\u001b[32mSplitWhile.scala\u001b[39m:\u001b[32m39\u001b[39m)\n  com.github.skac112.funnodes.SplitWhile.$anonfun$apply$1(\u001b[32mSplitWhile.scala\u001b[39m:\u001b[32m45\u001b[39m)\n  com.github.skac112.fractalizer.package$$anon$1.flatMap(\u001b[32mfractalizer.scala\u001b[39m:\u001b[32m20\u001b[39m)\n  com.github.skac112.fractalizer.package$$anon$1.flatMap(\u001b[32mfractalizer.scala\u001b[39m:\u001b[32m17\u001b[39m)\n  cats.FlatMap$Ops.flatMap(\u001b[32mFlatMap.scala\u001b[39m:\u001b[32m21\u001b[39m)\n  cats.FlatMap$Ops.flatMap$(\u001b[32mFlatMap.scala\u001b[39m:\u001b[32m21\u001b[39m)\n  cats.FlatMap$ToFlatMapOps$$anon$2.flatMap(\u001b[32mFlatMap.scala\u001b[39m:\u001b[32m21\u001b[39m)\n  com.github.skac112.funnodes.SplitWhile.apply(\u001b[32mSplitWhile.scala\u001b[39m:\u001b[32m44\u001b[39m)\n  com.github.skac112.funnodes.SplitWhile.$anonfun$apply$1(\u001b[32mSplitWhile.scala\u001b[39m:\u001b[32m45\u001b[39m)\n  com.github.skac112.fractalizer.package$$anon$1.flatMap(\u001b[32mfractalizer.scala\u001b[39m:\u001b[32m20\u001b[39m)\n  com.github.skac112.fractalizer.package$$anon$1.flatMap(\u001b[32mfractalizer.scala\u001b[39m:\u001b[32m17\u001b[39m)\n  cats.FlatMap$Ops.flatMap(\u001b[32mFlatMap.scala\u001b[39m:\u001b[32m21\u001b[39m)\n  cats.FlatMap$Ops.flatMap$(\u001b[32mFlatMap.scala\u001b[39m:\u001b[32m21\u001b[39m)\n  cats.FlatMap$ToFlatMapOps$$anon$2.flatMap(\u001b[32mFlatMap.scala\u001b[39m:\u001b[32m21\u001b[39m)\n  com.github.skac112.funnodes.SplitWhile.apply(\u001b[32mSplitWhile.scala\u001b[39m:\u001b[32m44\u001b[39m)\n  com.github.skac112.funnodes.SplitWhile.$anonfun$apply$1(\u001b[32mSplitWhile.scala\u001b[39m:\u001b[32m45\u001b[39m)\n  com.github.skac112.fractalizer.package$$anon$1.flatMap(\u001b[32mfractalizer.scala\u001b[39m:\u001b[32m20\u001b[39m)\n  com.github.skac112.fractalizer.package$$anon$1.flatMap(\u001b[32mfractalizer.scala\u001b[39m:\u001b[32m17\u001b[39m)\n  cats.FlatMap$Ops.flatMap(\u001b[32mFlatMap.scala\u001b[39m:\u001b[32m21\u001b[39m)\n  cats.FlatMap$Ops.flatMap$(\u001b[32mFlatMap.scala\u001b[39m:\u001b[32m21\u001b[39m)\n  cats.FlatMap$ToFlatMapOps$$anon$2.flatMap(\u001b[32mFlatMap.scala\u001b[39m:\u001b[32m21\u001b[39m)\n  com.github.skac112.funnodes.SplitWhile.apply(\u001b[32mSplitWhile.scala\u001b[39m:\u001b[32m44\u001b[39m)\n  com.github.skac112.funnodes.SplitWhile.$anonfun$apply$1(\u001b[32mSplitWhile.scala\u001b[39m:\u001b[32m45\u001b[39m)\n  com.github.skac112.fractalizer.package$$anon$1.flatMap(\u001b[32mfractalizer.scala\u001b[39m:\u001b[32m20\u001b[39m)\n  com.github.skac112.fractalizer.package$$anon$1.flatMap(\u001b[32mfractalizer.scala\u001b[39m:\u001b[32m17\u001b[39m)\n  cats.FlatMap$Ops.flatMap(\u001b[32mFlatMap.scala\u001b[39m:\u001b[32m21\u001b[39m)\n  cats.FlatMap$Ops.flatMap$(\u001b[32mFlatMap.scala\u001b[39m:\u001b[32m21\u001b[39m)\n  cats.FlatMap$ToFlatMapOps$$anon$2.flatMap(\u001b[32mFlatMap.scala\u001b[39m:\u001b[32m21\u001b[39m)\n  com.github.skac112.funnodes.SplitWhile.apply(\u001b[32mSplitWhile.scala\u001b[39m:\u001b[32m44\u001b[39m)\n  com.github.skac112.funnodes.SplitWhile.$anonfun$apply$1(\u001b[32mSplitWhile.scala\u001b[39m:\u001b[32m45\u001b[39m)\n  com.github.skac112.fractalizer.package$$anon$1.flatMap(\u001b[32mfractalizer.scala\u001b[39m:\u001b[32m20\u001b[39m)\n  com.github.skac112.fractalizer.package$$anon$1.flatMap(\u001b[32mfractalizer.scala\u001b[39m:\u001b[32m17\u001b[39m)\n  cats.FlatMap$Ops.flatMap(\u001b[32mFlatMap.scala\u001b[39m:\u001b[32m21\u001b[39m)\n  cats.FlatMap$Ops.flatMap$(\u001b[32mFlatMap.scala\u001b[39m:\u001b[32m21\u001b[39m)\n  cats.FlatMap$ToFlatMapOps$$anon$2.flatMap(\u001b[32mFlatMap.scala\u001b[39m:\u001b[32m21\u001b[39m)\n  com.github.skac112.funnodes.SplitWhile.apply(\u001b[32mSplitWhile.scala\u001b[39m:\u001b[32m44\u001b[39m)\n  com.github.skac112.funnodes.FunNode.$anonfun$k$1(\u001b[32mFunNode.scala\u001b[39m:\u001b[32m113\u001b[39m)\n  com.github.skac112.fractalizer.package$$anon$1.flatMap(\u001b[32mfractalizer.scala\u001b[39m:\u001b[32m20\u001b[39m)\n  com.github.skac112.fractalizer.package$$anon$1.flatMap(\u001b[32mfractalizer.scala\u001b[39m:\u001b[32m17\u001b[39m)\n  cats.data.Kleisli.$anonfun$compose$1(\u001b[32mKleisli.scala\u001b[39m:\u001b[32m43\u001b[39m)\n  com.github.skac112.fractalizer.package$$anon$1.flatMap(\u001b[32mfractalizer.scala\u001b[39m:\u001b[32m20\u001b[39m)\n  com.github.skac112.fractalizer.package$$anon$1.flatMap(\u001b[32mfractalizer.scala\u001b[39m:\u001b[32m17\u001b[39m)\n  cats.data.Kleisli$.$anonfun$shift$1(\u001b[32mKleisli.scala\u001b[39m:\u001b[32m109\u001b[39m)\n  com.github.skac112.funnodes.FunNode$QuickNode.apply(\u001b[32mFunNode.scala\u001b[39m:\u001b[32m10\u001b[39m)\n  com.github.skac112.funnodes.FunNode.$anonfun$k$1(\u001b[32mFunNode.scala\u001b[39m:\u001b[32m113\u001b[39m)\n  cats.data.Kleisli.$anonfun$compose$1(\u001b[32mKleisli.scala\u001b[39m:\u001b[32m43\u001b[39m)\n  com.github.skac112.fractalizer.package$$anon$1.flatMap(\u001b[32mfractalizer.scala\u001b[39m:\u001b[32m20\u001b[39m)\n  com.github.skac112.fractalizer.package$$anon$1.flatMap(\u001b[32mfractalizer.scala\u001b[39m:\u001b[32m17\u001b[39m)\n  cats.data.Kleisli$.$anonfun$shift$1(\u001b[32mKleisli.scala\u001b[39m:\u001b[32m109\u001b[39m)\n  com.github.skac112.funnodes.FunNode$QuickNode.apply(\u001b[32mFunNode.scala\u001b[39m:\u001b[32m10\u001b[39m)\n  com.github.skac112.funnodes.SplitWhile.apply(\u001b[32mSplitWhile.scala\u001b[39m:\u001b[32m39\u001b[39m)\n  ammonite.$sess.cmd2$Helper$Example15$.group(\u001b[32mcmd2.sc\u001b[39m:\u001b[32m26\u001b[39m)\n  ammonite.$sess.cmd2$Helper.<init>(\u001b[32mcmd2.sc\u001b[39m:\u001b[32m31\u001b[39m)\n  ammonite.$sess.cmd2$.<init>(\u001b[32mcmd2.sc\u001b[39m:\u001b[32m7\u001b[39m)\n  ammonite.$sess.cmd2$.<clinit>(\u001b[32mcmd2.sc\u001b[39m:\u001b[32m-1\u001b[39m)"
     ]
    }
   ],
   "source": [
    "import com.github.skac112.miro.graphics._\n",
    "import com.github.skac112.miro.attribs.colors._\n",
    "import com.github.skac112.miro._\n",
    "import com.github.skac112.fractalizer.stylers.colorizers._\n",
    "import com.github.skac112.fractalizer.nodes.partitioners._\n",
    "import com.github.skac112.fractalizer._\n",
    "import com.github.skac112.fractalizer.nodes.special._\n",
    "import com.github.skac112.vgutils._\n",
    "import com.github.skac112.fractalizer.Palette\n",
    "import com.github.skac112.miro.draw.svg._\n",
    "\n",
    "object Example15 {\n",
    "  def group = {\n",
    "    val c = (Circle(100.0), Point(100.0, 100.0))\n",
    "    val part1 = Partition.random(10, -10.0)\n",
    "    val part2 = Partition.random(20, -10.0)\n",
    "    val base_color = Color(math.random, math.random, math.random)\n",
    "    val styler = Selected(Palette.randSimHsl(base_color, 10, .1, .1, .1))\n",
    "    val repl1 = PolarRad.uniform(10, Some(styler))\n",
    "    val repl2 = PolarAng(part2, Some(styler))\n",
    "//     val repl = repl1 + (repl2 | (DrawCut(1)|*3) | repl2) + DrawCut()\n",
    "//     val repl = repl2 + DrawCut() \n",
    "    val repl3 = repl2 | (DrawCut(1)|*3) | repl2\n",
    "    println(repl3.internalArity)      \n",
    "    val repl = repl1 + (repl2 | repl2) + DrawCut()  \n",
    "    val out = repl(Seq(c)).run._1\n",
    "    Group(out)\n",
    "  }\n",
    "}\n",
    "\n",
    "val group = Example15.group\n",
    "val draw = new Draw()\n",
    "draw.saveToFile(group, \"drawings/example15.svg\")"
   ]
  },
  {
   "cell_type": "code",
   "execution_count": null,
   "metadata": {},
   "outputs": [],
   "source": []
  }
 ],
 "metadata": {
  "kernelspec": {
   "display_name": "Scala",
   "language": "scala",
   "name": "scala"
  },
  "language_info": {
   "codemirror_mode": "text/x-scala",
   "file_extension": ".scala",
   "mimetype": "text/x-scala",
   "name": "scala",
   "nbconvert_exporter": "script",
   "version": "2.12.9"
  }
 },
 "nbformat": 4,
 "nbformat_minor": 2
}
